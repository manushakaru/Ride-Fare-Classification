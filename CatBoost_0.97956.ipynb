{
 "cells": [
  {
   "cell_type": "code",
   "execution_count": 18,
   "metadata": {
    "colab": {},
    "colab_type": "code",
    "id": "9Vs_P3cwLyJn"
   },
   "outputs": [],
   "source": [
    "import numpy as np\n",
    "import pandas as pd\n",
    "from sklearn.preprocessing import StandardScaler\n",
    "from sklearn.impute import SimpleImputer\n",
    "from sklearn.compose import ColumnTransformer\n",
    "from sklearn.pipeline import Pipeline\n",
    "from sklearn.model_selection import train_test_split\n",
    "from sklearn.metrics import roc_curve, roc_auc_score\n",
    "from catboost import CatBoostClassifier"
   ]
  },
  {
   "cell_type": "code",
   "execution_count": 19,
   "metadata": {
    "colab": {},
    "colab_type": "code",
    "id": "IZ-DEfha-Jsp"
   },
   "outputs": [],
   "source": [
    "# changed distance calculation\n",
    "def harv_distance(lat1, lon1, lat2, lon2):\n",
    "    p = 0.017453292519943295 # Pi/180\n",
    "    a = 0.5 - np.cos((lat2 - lat1) * p)/2 + np.cos(lat1 * p) * np.cos(lat2 * p) * (1 - np.cos((lon2 - lon1) * p)) / 2\n",
    "    return 0.6213712 * 12742 * np.arcsin(np.sqrt(a)) "
   ]
  },
  {
   "cell_type": "code",
   "execution_count": 20,
   "metadata": {
    "colab": {},
    "colab_type": "code",
    "id": "zUc7R6XrL96n"
   },
   "outputs": [],
   "source": [
    "train_df = pd.read_csv(\n",
    "    \"../data/train.csv\", \n",
    "    index_col=\"tripid\",\n",
    "    parse_dates=['pickup_time','drop_time']\n",
    ")\n"
   ]
  },
  {
   "cell_type": "code",
   "execution_count": 21,
   "metadata": {
    "colab": {},
    "colab_type": "code",
    "id": "-9QDgJK-MwZt"
   },
   "outputs": [],
   "source": [
    "train_df['label'].replace(to_replace=['incorrect','correct'], value=[0,1],inplace=True)\n",
    "y = train_df['label']"
   ]
  },
  {
   "cell_type": "code",
   "execution_count": 22,
   "metadata": {
    "colab": {},
    "colab_type": "code",
    "id": "c6NHBZwlND2H"
   },
   "outputs": [],
   "source": [
    "X = train_df.drop(columns=[\"label\"], axis=1)"
   ]
  },
  {
   "cell_type": "code",
   "execution_count": 23,
   "metadata": {
    "colab": {},
    "colab_type": "code",
    "id": "h1CI0MOkOfuZ"
   },
   "outputs": [],
   "source": [
    "test_df = pd.read_csv(\"../data/test.csv\", \n",
    "                               index_col=\"tripid\",\n",
    "                     parse_dates=['pickup_time','drop_time'])"
   ]
  },
  {
   "cell_type": "code",
   "execution_count": 24,
   "metadata": {
    "colab": {},
    "colab_type": "code",
    "id": "SzT_4AU8QFF2"
   },
   "outputs": [],
   "source": [
    "#X = X.dropna() // reduced the accuracy "
   ]
  },
  {
   "cell_type": "code",
   "execution_count": 25,
   "metadata": {
    "colab": {},
    "colab_type": "code",
    "id": "JIGUTe3zPkD6"
   },
   "outputs": [],
   "source": [
    "X = X.fillna(X.mean())\n",
    "test_df = test_df.fillna(test_df.mean())"
   ]
  },
  {
   "cell_type": "code",
   "execution_count": 26,
   "metadata": {
    "colab": {},
    "colab_type": "code",
    "id": "ne8Ep2FGrGY0"
   },
   "outputs": [],
   "source": [
    "X[\"pickup_hour\"] = X[\"pickup_time\"].dt.hour\n",
    "X[\"pickup_minute\"] = X[\"pickup_time\"].dt.minute\n",
    "X[\"pickup_date\"] = X[\"pickup_time\"].dt.day\n",
    "X[\"drop_hour\"] =X[\"drop_time\"].dt.hour\n",
    "X[\"drop_minute\"] =X[\"drop_time\"].dt.minute\n",
    "X[\"drop_date\"] = X[\"drop_time\"].dt.day\n",
    "# X[\"pickup_month\"] = X[\"pickup_time\"].dt.month\n",
    "# X[\"drop_month\"] = X[\"drop_time\"].dt.month\n",
    "# X[\"pickup_year\"] = X[\"drop_time\"].dt.year\n",
    "# X[\"drop_year\"] = X[\"drop_time\"].dt.year\n",
    "X[\"distance\"] =  harv_distance(X[\"pick_lat\"],X[\"pick_lon\"],X[\"drop_lat\"],X[\"drop_lon\"])\n",
    "X[\"time_taken\"] = X[\"duration\"]-X[\"meter_waiting\"]"
   ]
  },
  {
   "cell_type": "code",
   "execution_count": 27,
   "metadata": {
    "colab": {
     "base_uri": "https://localhost:8080/",
     "height": 372
    },
    "colab_type": "code",
    "executionInfo": {
     "elapsed": 24330,
     "status": "ok",
     "timestamp": 1590658360995,
     "user": {
      "displayName": "Piyumal Anthony Demotte",
      "photoUrl": "https://lh3.googleusercontent.com/a-/AOh14Gh2JB5wspmrUz5pftBJnwIOpwWLHTHaAnwohxJWwg=s64",
      "userId": "04827711308486672225"
     },
     "user_tz": -330
    },
    "id": "Iz9IGLqwT5Ku",
    "outputId": "cf1b1e5b-e825-4fa8-d8b0-d03b8d05cf9f"
   },
   "outputs": [
    {
     "data": {
      "text/plain": [
       "additional_fare                     float64\n",
       "duration                            float64\n",
       "meter_waiting                       float64\n",
       "meter_waiting_fare                  float64\n",
       "meter_waiting_till_pickup           float64\n",
       "pickup_time                  datetime64[ns]\n",
       "drop_time                    datetime64[ns]\n",
       "pick_lat                            float64\n",
       "pick_lon                            float64\n",
       "drop_lat                            float64\n",
       "drop_lon                            float64\n",
       "fare                                float64\n",
       "pickup_hour                           int64\n",
       "pickup_minute                         int64\n",
       "pickup_date                           int64\n",
       "drop_hour                             int64\n",
       "drop_minute                           int64\n",
       "drop_date                             int64\n",
       "distance                            float64\n",
       "time_taken                          float64\n",
       "dtype: object"
      ]
     },
     "execution_count": 27,
     "metadata": {},
     "output_type": "execute_result"
    }
   ],
   "source": [
    "X.dtypes"
   ]
  },
  {
   "cell_type": "code",
   "execution_count": 28,
   "metadata": {
    "colab": {},
    "colab_type": "code",
    "id": "TQpC_ed1v8BH"
   },
   "outputs": [],
   "source": [
    "test_df[\"pickup_hour\"] = test_df[\"pickup_time\"].dt.hour\n",
    "test_df[\"pickup_minute\"] = test_df[\"pickup_time\"].dt.minute\n",
    "test_df[\"drop_hour\"] =test_df[\"drop_time\"].dt.hour\n",
    "test_df[\"drop_minute\"] =test_df[\"drop_time\"].dt.minute\n",
    "test_df[\"pickup_date\"] = test_df[\"pickup_time\"].dt.day\n",
    "test_df[\"drop_date\"] = test_df[\"drop_time\"].dt.day\n",
    "# test_df[\"pickup_month\"] = test_df[\"pickup_time\"].dt.month\n",
    "# test_df[\"drop_month\"] = test_df[\"drop_time\"].dt.month\n",
    "# test_df[\"pickup_year\"] = test_df[\"pickup_time\"].dt.year\n",
    "# test_df[\"drop_year\"] = test_df[\"drop_time\"].dt.year\n",
    "test_df[\"distance\"] =  harv_distance(test_df[\"pick_lat\"],test_df[\"pick_lon\"],test_df[\"drop_lat\"],test_df[\"drop_lon\"])\n",
    "test_df[\"time_taken\"] = test_df[\"duration\"]-test_df[\"meter_waiting\"]"
   ]
  },
  {
   "cell_type": "code",
   "execution_count": 64,
   "metadata": {
    "colab": {},
    "colab_type": "code",
    "id": "nCsk4dJoRBtR"
   },
   "outputs": [],
   "source": [
    "model = CatBoostClassifier(iterations=600000)"
   ]
  },
  {
   "cell_type": "code",
   "execution_count": 65,
   "metadata": {
    "colab": {
     "base_uri": "https://localhost:8080/",
     "height": 1000
    },
    "colab_type": "code",
    "executionInfo": {
     "elapsed": 7506287,
     "status": "ok",
     "timestamp": 1590665853846,
     "user": {
      "displayName": "Piyumal Anthony Demotte",
      "photoUrl": "https://lh3.googleusercontent.com/a-/AOh14Gh2JB5wspmrUz5pftBJnwIOpwWLHTHaAnwohxJWwg=s64",
      "userId": "04827711308486672225"
     },
     "user_tz": -330
    },
    "id": "D42VkwNnROYu",
    "outputId": "db925354-c817-44c6-f686-8854bafd51b8"
   },
   "outputs": [
    {
     "data": {
      "text/plain": [
       "<catboost.core.CatBoostClassifier at 0x7f1bedf5f278>"
      ]
     },
     "execution_count": 65,
     "metadata": {},
     "output_type": "execute_result"
    }
   ],
   "source": [
    "model.fit(X,y,plot=False,verbose=False)"
   ]
  },
  {
   "cell_type": "code",
   "execution_count": 66,
   "metadata": {
    "colab": {},
    "colab_type": "code",
    "id": "PPsJZfX0RU8Y"
   },
   "outputs": [],
   "source": [
    "prediction = model.predict(test_df)"
   ]
  },
  {
   "cell_type": "code",
   "execution_count": 67,
   "metadata": {
    "colab": {
     "base_uri": "https://localhost:8080/",
     "height": 34
    },
    "colab_type": "code",
    "executionInfo": {
     "elapsed": 5088,
     "status": "ok",
     "timestamp": 1590667381928,
     "user": {
      "displayName": "Piyumal Anthony Demotte",
      "photoUrl": "https://lh3.googleusercontent.com/a-/AOh14Gh2JB5wspmrUz5pftBJnwIOpwWLHTHaAnwohxJWwg=s64",
      "userId": "04827711308486672225"
     },
     "user_tz": -330
    },
    "id": "4_ERXIiUgJj7",
    "outputId": "a9af6ae9-dba3-498a-89ae-39acba8f424c",
    "scrolled": true
   },
   "outputs": [
    {
     "data": {
      "text/plain": [
       "array([1, 1, 1, ..., 1, 1, 1])"
      ]
     },
     "execution_count": 67,
     "metadata": {},
     "output_type": "execute_result"
    }
   ],
   "source": [
    "prediction"
   ]
  },
  {
   "cell_type": "code",
   "execution_count": 68,
   "metadata": {},
   "outputs": [
    {
     "data": {
      "text/plain": [
       "1    8202\n",
       "0     374\n",
       "Name: prediction, dtype: int64"
      ]
     },
     "execution_count": 68,
     "metadata": {},
     "output_type": "execute_result"
    }
   ],
   "source": [
    "\n",
    "data = {'tripid':test_df.index.values}\n",
    "df_res = pd.DataFrame(data)\n",
    "df_res['prediction'] = prediction\n",
    "df_res.to_csv('data/catboost_12.csv', index=False)\n",
    "df_res['prediction'].value_counts()"
   ]
  }
 ],
 "metadata": {
  "colab": {
   "collapsed_sections": [],
   "name": "BEST_OF_ALL_Ride_Fare_Prediction_version6.ipynb",
   "provenance": []
  },
  "kernelspec": {
   "display_name": "Python 3",
   "language": "python",
   "name": "python3"
  },
  "language_info": {
   "codemirror_mode": {
    "name": "ipython",
    "version": 3
   },
   "file_extension": ".py",
   "mimetype": "text/x-python",
   "name": "python",
   "nbconvert_exporter": "python",
   "pygments_lexer": "ipython3",
   "version": "3.5.6"
  }
 },
 "nbformat": 4,
 "nbformat_minor": 1
}
