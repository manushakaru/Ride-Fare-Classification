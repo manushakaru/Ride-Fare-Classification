{
 "cells": [
  {
   "cell_type": "code",
   "execution_count": 1,
   "metadata": {},
   "outputs": [
    {
     "name": "stderr",
     "output_type": "stream",
     "text": [
      "/home/manusha/anaconda3/envs/my_env_35/lib/python3.5/site-packages/xgboost/__init__.py:28: FutureWarning: Python 3.5 support is deprecated; XGBoost will require Python 3.6+ in the near future. Consider upgrading to Python 3.6+.\n",
      "  FutureWarning)\n"
     ]
    }
   ],
   "source": [
    "import pandas as pd\n",
    "import numpy as np\n",
    "from scipy import stats\n",
    "from sklearn.preprocessing import StandardScaler\n",
    "from sklearn.model_selection import train_test_split\n",
    "from xgboost import XGBClassifier\n",
    "from sklearn.metrics import accuracy_score, f1_score\n",
    "from sklearn import svm\n",
    "from sklearn.ensemble import RandomForestClassifier\n",
    "from sklearn.linear_model import LogisticRegression\n",
    "from sklearn.naive_bayes import GaussianNB\n",
    "from sklearn.naive_bayes import MultinomialNB\n",
    "from sklearn.tree import DecisionTreeClassifier\n",
    "from sklearn.model_selection import GridSearchCV\n",
    "from math import radians, cos, sin, asin, sqrt\n",
    "from collections import Counter \n",
    "import seaborn as sns\n",
    "import matplotlib.pyplot as plt"
   ]
  },
  {
   "cell_type": "markdown",
   "metadata": {},
   "source": [
    "# load datasets\n",
    "\n",
    "train_df - training dataframe\n",
    "\n",
    "test_df - testing dataframe"
   ]
  },
  {
   "cell_type": "code",
   "execution_count": 2,
   "metadata": {},
   "outputs": [],
   "source": [
    "train_df = pd.read_csv('data/train.csv',parse_dates=['pickup_time','drop_time'])\n",
    "test_df = pd.read_csv('data/test.csv', parse_dates=['pickup_time','drop_time'])"
   ]
  },
  {
   "cell_type": "markdown",
   "metadata": {},
   "source": [
    "# Understand dataset"
   ]
  },
  {
   "cell_type": "code",
   "execution_count": 3,
   "metadata": {},
   "outputs": [
    {
     "data": {
      "text/html": [
       "<div>\n",
       "<style scoped>\n",
       "    .dataframe tbody tr th:only-of-type {\n",
       "        vertical-align: middle;\n",
       "    }\n",
       "\n",
       "    .dataframe tbody tr th {\n",
       "        vertical-align: top;\n",
       "    }\n",
       "\n",
       "    .dataframe thead th {\n",
       "        text-align: right;\n",
       "    }\n",
       "</style>\n",
       "<table border=\"1\" class=\"dataframe\">\n",
       "  <thead>\n",
       "    <tr style=\"text-align: right;\">\n",
       "      <th></th>\n",
       "      <th>tripid</th>\n",
       "      <th>additional_fare</th>\n",
       "      <th>duration</th>\n",
       "      <th>meter_waiting</th>\n",
       "      <th>meter_waiting_fare</th>\n",
       "      <th>meter_waiting_till_pickup</th>\n",
       "      <th>pickup_time</th>\n",
       "      <th>drop_time</th>\n",
       "      <th>pick_lat</th>\n",
       "      <th>pick_lon</th>\n",
       "      <th>drop_lat</th>\n",
       "      <th>drop_lon</th>\n",
       "      <th>fare</th>\n",
       "      <th>label</th>\n",
       "    </tr>\n",
       "  </thead>\n",
       "  <tbody>\n",
       "    <tr>\n",
       "      <th>0</th>\n",
       "      <td>189123628</td>\n",
       "      <td>10.5</td>\n",
       "      <td>834.0</td>\n",
       "      <td>56.0</td>\n",
       "      <td>0.0000</td>\n",
       "      <td>64.0</td>\n",
       "      <td>2019-11-01 00:20:00</td>\n",
       "      <td>2019-11-01 00:34:00</td>\n",
       "      <td>6.86252</td>\n",
       "      <td>79.8993</td>\n",
       "      <td>6.90330</td>\n",
       "      <td>79.8783</td>\n",
       "      <td>270.32</td>\n",
       "      <td>correct</td>\n",
       "    </tr>\n",
       "    <tr>\n",
       "      <th>1</th>\n",
       "      <td>189125358</td>\n",
       "      <td>10.5</td>\n",
       "      <td>791.0</td>\n",
       "      <td>47.0</td>\n",
       "      <td>0.0000</td>\n",
       "      <td>134.0</td>\n",
       "      <td>2019-11-01 00:56:00</td>\n",
       "      <td>2019-11-01 01:09:00</td>\n",
       "      <td>6.88589</td>\n",
       "      <td>79.8984</td>\n",
       "      <td>6.91373</td>\n",
       "      <td>79.8923</td>\n",
       "      <td>197.85</td>\n",
       "      <td>correct</td>\n",
       "    </tr>\n",
       "    <tr>\n",
       "      <th>2</th>\n",
       "      <td>189125719</td>\n",
       "      <td>10.5</td>\n",
       "      <td>1087.0</td>\n",
       "      <td>80.0</td>\n",
       "      <td>0.0000</td>\n",
       "      <td>61.0</td>\n",
       "      <td>2019-11-01 01:08:00</td>\n",
       "      <td>2019-11-01 01:26:00</td>\n",
       "      <td>6.90839</td>\n",
       "      <td>79.8651</td>\n",
       "      <td>6.93669</td>\n",
       "      <td>79.9146</td>\n",
       "      <td>301.64</td>\n",
       "      <td>correct</td>\n",
       "    </tr>\n",
       "    <tr>\n",
       "      <th>3</th>\n",
       "      <td>189127273</td>\n",
       "      <td>10.5</td>\n",
       "      <td>598.0</td>\n",
       "      <td>271.0</td>\n",
       "      <td>15.6638</td>\n",
       "      <td>68.0</td>\n",
       "      <td>2019-11-01 02:27:00</td>\n",
       "      <td>2019-11-01 02:37:00</td>\n",
       "      <td>6.92570</td>\n",
       "      <td>79.8895</td>\n",
       "      <td>6.92748</td>\n",
       "      <td>79.8971</td>\n",
       "      <td>82.30</td>\n",
       "      <td>correct</td>\n",
       "    </tr>\n",
       "    <tr>\n",
       "      <th>4</th>\n",
       "      <td>189128020</td>\n",
       "      <td>NaN</td>\n",
       "      <td>NaN</td>\n",
       "      <td>NaN</td>\n",
       "      <td>NaN</td>\n",
       "      <td>NaN</td>\n",
       "      <td>2019-11-01 03:34:00</td>\n",
       "      <td>2019-11-01 03:51:00</td>\n",
       "      <td>6.87441</td>\n",
       "      <td>79.8615</td>\n",
       "      <td>6.84478</td>\n",
       "      <td>79.9290</td>\n",
       "      <td>358.39</td>\n",
       "      <td>correct</td>\n",
       "    </tr>\n",
       "  </tbody>\n",
       "</table>\n",
       "</div>"
      ],
      "text/plain": [
       "      tripid  additional_fare  duration  meter_waiting  meter_waiting_fare  \\\n",
       "0  189123628             10.5     834.0           56.0              0.0000   \n",
       "1  189125358             10.5     791.0           47.0              0.0000   \n",
       "2  189125719             10.5    1087.0           80.0              0.0000   \n",
       "3  189127273             10.5     598.0          271.0             15.6638   \n",
       "4  189128020              NaN       NaN            NaN                 NaN   \n",
       "\n",
       "   meter_waiting_till_pickup         pickup_time           drop_time  \\\n",
       "0                       64.0 2019-11-01 00:20:00 2019-11-01 00:34:00   \n",
       "1                      134.0 2019-11-01 00:56:00 2019-11-01 01:09:00   \n",
       "2                       61.0 2019-11-01 01:08:00 2019-11-01 01:26:00   \n",
       "3                       68.0 2019-11-01 02:27:00 2019-11-01 02:37:00   \n",
       "4                        NaN 2019-11-01 03:34:00 2019-11-01 03:51:00   \n",
       "\n",
       "   pick_lat  pick_lon  drop_lat  drop_lon    fare    label  \n",
       "0   6.86252   79.8993   6.90330   79.8783  270.32  correct  \n",
       "1   6.88589   79.8984   6.91373   79.8923  197.85  correct  \n",
       "2   6.90839   79.8651   6.93669   79.9146  301.64  correct  \n",
       "3   6.92570   79.8895   6.92748   79.8971   82.30  correct  \n",
       "4   6.87441   79.8615   6.84478   79.9290  358.39  correct  "
      ]
     },
     "execution_count": 3,
     "metadata": {},
     "output_type": "execute_result"
    }
   ],
   "source": [
    "train_df.head()"
   ]
  },
  {
   "cell_type": "code",
   "execution_count": 4,
   "metadata": {},
   "outputs": [
    {
     "data": {
      "text/html": [
       "<div>\n",
       "<style scoped>\n",
       "    .dataframe tbody tr th:only-of-type {\n",
       "        vertical-align: middle;\n",
       "    }\n",
       "\n",
       "    .dataframe tbody tr th {\n",
       "        vertical-align: top;\n",
       "    }\n",
       "\n",
       "    .dataframe thead th {\n",
       "        text-align: right;\n",
       "    }\n",
       "</style>\n",
       "<table border=\"1\" class=\"dataframe\">\n",
       "  <thead>\n",
       "    <tr style=\"text-align: right;\">\n",
       "      <th></th>\n",
       "      <th>tripid</th>\n",
       "      <th>additional_fare</th>\n",
       "      <th>duration</th>\n",
       "      <th>meter_waiting</th>\n",
       "      <th>meter_waiting_fare</th>\n",
       "      <th>meter_waiting_till_pickup</th>\n",
       "      <th>pickup_time</th>\n",
       "      <th>drop_time</th>\n",
       "      <th>pick_lat</th>\n",
       "      <th>pick_lon</th>\n",
       "      <th>drop_lat</th>\n",
       "      <th>drop_lon</th>\n",
       "      <th>fare</th>\n",
       "    </tr>\n",
       "  </thead>\n",
       "  <tbody>\n",
       "    <tr>\n",
       "      <th>0</th>\n",
       "      <td>213284604</td>\n",
       "      <td>10.5</td>\n",
       "      <td>924</td>\n",
       "      <td>42</td>\n",
       "      <td>2.4486</td>\n",
       "      <td>148</td>\n",
       "      <td>2020-02-01 00:38:00</td>\n",
       "      <td>2020-02-01 00:53:00</td>\n",
       "      <td>6.83454</td>\n",
       "      <td>79.8750</td>\n",
       "      <td>6.77490</td>\n",
       "      <td>79.8840</td>\n",
       "      <td>289.27</td>\n",
       "    </tr>\n",
       "    <tr>\n",
       "      <th>1</th>\n",
       "      <td>213286352</td>\n",
       "      <td>10.5</td>\n",
       "      <td>4249</td>\n",
       "      <td>20</td>\n",
       "      <td>0.0000</td>\n",
       "      <td>91</td>\n",
       "      <td>2020-02-01 01:02:00</td>\n",
       "      <td>2020-02-01 02:13:00</td>\n",
       "      <td>6.91168</td>\n",
       "      <td>79.8723</td>\n",
       "      <td>6.55091</td>\n",
       "      <td>79.9706</td>\n",
       "      <td>1912.70</td>\n",
       "    </tr>\n",
       "    <tr>\n",
       "      <th>2</th>\n",
       "      <td>213293973</td>\n",
       "      <td>10.5</td>\n",
       "      <td>1552</td>\n",
       "      <td>255</td>\n",
       "      <td>2.6588</td>\n",
       "      <td>23</td>\n",
       "      <td>2020-02-01 05:02:00</td>\n",
       "      <td>2020-02-01 05:28:00</td>\n",
       "      <td>6.92145</td>\n",
       "      <td>79.8478</td>\n",
       "      <td>6.90539</td>\n",
       "      <td>79.8989</td>\n",
       "      <td>394.00</td>\n",
       "    </tr>\n",
       "    <tr>\n",
       "      <th>3</th>\n",
       "      <td>213294622</td>\n",
       "      <td>10.5</td>\n",
       "      <td>462</td>\n",
       "      <td>16</td>\n",
       "      <td>0.0000</td>\n",
       "      <td>198</td>\n",
       "      <td>2020-02-01 05:30:00</td>\n",
       "      <td>2020-02-01 05:38:00</td>\n",
       "      <td>6.77433</td>\n",
       "      <td>79.9416</td>\n",
       "      <td>6.80401</td>\n",
       "      <td>79.9407</td>\n",
       "      <td>154.32</td>\n",
       "    </tr>\n",
       "    <tr>\n",
       "      <th>4</th>\n",
       "      <td>213298687</td>\n",
       "      <td>10.5</td>\n",
       "      <td>814</td>\n",
       "      <td>392</td>\n",
       "      <td>12.3692</td>\n",
       "      <td>69</td>\n",
       "      <td>2020-02-01 07:00:00</td>\n",
       "      <td>2020-02-01 07:14:00</td>\n",
       "      <td>6.97968</td>\n",
       "      <td>79.9130</td>\n",
       "      <td>6.98875</td>\n",
       "      <td>79.8914</td>\n",
       "      <td>147.47</td>\n",
       "    </tr>\n",
       "  </tbody>\n",
       "</table>\n",
       "</div>"
      ],
      "text/plain": [
       "      tripid  additional_fare  duration  meter_waiting  meter_waiting_fare  \\\n",
       "0  213284604             10.5       924             42              2.4486   \n",
       "1  213286352             10.5      4249             20              0.0000   \n",
       "2  213293973             10.5      1552            255              2.6588   \n",
       "3  213294622             10.5       462             16              0.0000   \n",
       "4  213298687             10.5       814            392             12.3692   \n",
       "\n",
       "   meter_waiting_till_pickup         pickup_time           drop_time  \\\n",
       "0                        148 2020-02-01 00:38:00 2020-02-01 00:53:00   \n",
       "1                         91 2020-02-01 01:02:00 2020-02-01 02:13:00   \n",
       "2                         23 2020-02-01 05:02:00 2020-02-01 05:28:00   \n",
       "3                        198 2020-02-01 05:30:00 2020-02-01 05:38:00   \n",
       "4                         69 2020-02-01 07:00:00 2020-02-01 07:14:00   \n",
       "\n",
       "   pick_lat  pick_lon  drop_lat  drop_lon     fare  \n",
       "0   6.83454   79.8750   6.77490   79.8840   289.27  \n",
       "1   6.91168   79.8723   6.55091   79.9706  1912.70  \n",
       "2   6.92145   79.8478   6.90539   79.8989   394.00  \n",
       "3   6.77433   79.9416   6.80401   79.9407   154.32  \n",
       "4   6.97968   79.9130   6.98875   79.8914   147.47  "
      ]
     },
     "execution_count": 4,
     "metadata": {},
     "output_type": "execute_result"
    }
   ],
   "source": [
    "test_df.head()"
   ]
  },
  {
   "cell_type": "code",
   "execution_count": 5,
   "metadata": {},
   "outputs": [
    {
     "name": "stdout",
     "output_type": "stream",
     "text": [
      "shape of training data is:  (17176, 14)\n",
      "shape of test data is:  (8576, 13)\n"
     ]
    }
   ],
   "source": [
    "print(\"shape of training data is: \",train_df.shape) \n",
    "print(\"shape of test data is: \",test_df.shape)"
   ]
  },
  {
   "cell_type": "code",
   "execution_count": 6,
   "metadata": {},
   "outputs": [
    {
     "data": {
      "text/plain": [
       "tripid                                int64\n",
       "additional_fare                     float64\n",
       "duration                            float64\n",
       "meter_waiting                       float64\n",
       "meter_waiting_fare                  float64\n",
       "meter_waiting_till_pickup           float64\n",
       "pickup_time                  datetime64[ns]\n",
       "drop_time                    datetime64[ns]\n",
       "pick_lat                            float64\n",
       "pick_lon                            float64\n",
       "drop_lat                            float64\n",
       "drop_lon                            float64\n",
       "fare                                float64\n",
       "label                                object\n",
       "dtype: object"
      ]
     },
     "execution_count": 6,
     "metadata": {},
     "output_type": "execute_result"
    }
   ],
   "source": [
    "train_df.dtypes"
   ]
  },
  {
   "cell_type": "code",
   "execution_count": 7,
   "metadata": {},
   "outputs": [
    {
     "data": {
      "text/plain": [
       "tripid                                int64\n",
       "additional_fare                     float64\n",
       "duration                              int64\n",
       "meter_waiting                         int64\n",
       "meter_waiting_fare                  float64\n",
       "meter_waiting_till_pickup             int64\n",
       "pickup_time                  datetime64[ns]\n",
       "drop_time                    datetime64[ns]\n",
       "pick_lat                            float64\n",
       "pick_lon                            float64\n",
       "drop_lat                            float64\n",
       "drop_lon                            float64\n",
       "fare                                float64\n",
       "dtype: object"
      ]
     },
     "execution_count": 7,
     "metadata": {},
     "output_type": "execute_result"
    }
   ],
   "source": [
    "test_df.dtypes"
   ]
  },
  {
   "cell_type": "code",
   "execution_count": 8,
   "metadata": {},
   "outputs": [
    {
     "data": {
      "text/html": [
       "<div>\n",
       "<style scoped>\n",
       "    .dataframe tbody tr th:only-of-type {\n",
       "        vertical-align: middle;\n",
       "    }\n",
       "\n",
       "    .dataframe tbody tr th {\n",
       "        vertical-align: top;\n",
       "    }\n",
       "\n",
       "    .dataframe thead th {\n",
       "        text-align: right;\n",
       "    }\n",
       "</style>\n",
       "<table border=\"1\" class=\"dataframe\">\n",
       "  <thead>\n",
       "    <tr style=\"text-align: right;\">\n",
       "      <th></th>\n",
       "      <th>tripid</th>\n",
       "      <th>additional_fare</th>\n",
       "      <th>duration</th>\n",
       "      <th>meter_waiting</th>\n",
       "      <th>meter_waiting_fare</th>\n",
       "      <th>meter_waiting_till_pickup</th>\n",
       "      <th>pick_lat</th>\n",
       "      <th>pick_lon</th>\n",
       "      <th>drop_lat</th>\n",
       "      <th>drop_lon</th>\n",
       "      <th>fare</th>\n",
       "    </tr>\n",
       "  </thead>\n",
       "  <tbody>\n",
       "    <tr>\n",
       "      <th>count</th>\n",
       "      <td>1.717600e+04</td>\n",
       "      <td>16974.000000</td>\n",
       "      <td>16974.000000</td>\n",
       "      <td>16974.000000</td>\n",
       "      <td>16974.000000</td>\n",
       "      <td>16974.000000</td>\n",
       "      <td>17176.000000</td>\n",
       "      <td>17176.000000</td>\n",
       "      <td>17176.000000</td>\n",
       "      <td>17176.000000</td>\n",
       "      <td>17039.000000</td>\n",
       "    </tr>\n",
       "    <tr>\n",
       "      <th>mean</th>\n",
       "      <td>2.014549e+08</td>\n",
       "      <td>13.719651</td>\n",
       "      <td>1702.858077</td>\n",
       "      <td>629.074231</td>\n",
       "      <td>32.057666</td>\n",
       "      <td>112.466832</td>\n",
       "      <td>6.965499</td>\n",
       "      <td>79.998389</td>\n",
       "      <td>6.968587</td>\n",
       "      <td>79.997534</td>\n",
       "      <td>312.655466</td>\n",
       "    </tr>\n",
       "    <tr>\n",
       "      <th>std</th>\n",
       "      <td>7.456830e+06</td>\n",
       "      <td>98.975052</td>\n",
       "      <td>8120.160818</td>\n",
       "      <td>8063.260669</td>\n",
       "      <td>465.483573</td>\n",
       "      <td>442.054812</td>\n",
       "      <td>0.210760</td>\n",
       "      <td>0.243384</td>\n",
       "      <td>0.378669</td>\n",
       "      <td>0.359648</td>\n",
       "      <td>605.300565</td>\n",
       "    </tr>\n",
       "    <tr>\n",
       "      <th>min</th>\n",
       "      <td>1.891236e+08</td>\n",
       "      <td>0.000000</td>\n",
       "      <td>0.000000</td>\n",
       "      <td>0.000000</td>\n",
       "      <td>0.000000</td>\n",
       "      <td>0.000000</td>\n",
       "      <td>5.937600</td>\n",
       "      <td>79.819100</td>\n",
       "      <td>5.941860</td>\n",
       "      <td>45.307700</td>\n",
       "      <td>0.000000</td>\n",
       "    </tr>\n",
       "    <tr>\n",
       "      <th>25%</th>\n",
       "      <td>1.947619e+08</td>\n",
       "      <td>10.500000</td>\n",
       "      <td>548.000000</td>\n",
       "      <td>33.000000</td>\n",
       "      <td>0.000000</td>\n",
       "      <td>26.000000</td>\n",
       "      <td>6.865077</td>\n",
       "      <td>79.870400</td>\n",
       "      <td>6.865625</td>\n",
       "      <td>79.870100</td>\n",
       "      <td>125.515000</td>\n",
       "    </tr>\n",
       "    <tr>\n",
       "      <th>50%</th>\n",
       "      <td>2.013582e+08</td>\n",
       "      <td>10.500000</td>\n",
       "      <td>1009.500000</td>\n",
       "      <td>123.000000</td>\n",
       "      <td>0.116600</td>\n",
       "      <td>73.000000</td>\n",
       "      <td>6.914105</td>\n",
       "      <td>79.898600</td>\n",
       "      <td>6.916160</td>\n",
       "      <td>79.899100</td>\n",
       "      <td>211.180000</td>\n",
       "    </tr>\n",
       "    <tr>\n",
       "      <th>75%</th>\n",
       "      <td>2.083081e+08</td>\n",
       "      <td>10.500000</td>\n",
       "      <td>1803.000000</td>\n",
       "      <td>351.000000</td>\n",
       "      <td>14.341800</td>\n",
       "      <td>144.000000</td>\n",
       "      <td>7.043057</td>\n",
       "      <td>79.956600</td>\n",
       "      <td>7.047195</td>\n",
       "      <td>79.960225</td>\n",
       "      <td>366.465000</td>\n",
       "    </tr>\n",
       "    <tr>\n",
       "      <th>max</th>\n",
       "      <td>2.138173e+08</td>\n",
       "      <td>12795.030000</td>\n",
       "      <td>453872.000000</td>\n",
       "      <td>453650.000000</td>\n",
       "      <td>26198.601400</td>\n",
       "      <td>51288.000000</td>\n",
       "      <td>8.051010</td>\n",
       "      <td>81.009600</td>\n",
       "      <td>48.132000</td>\n",
       "      <td>81.009700</td>\n",
       "      <td>26945.990000</td>\n",
       "    </tr>\n",
       "  </tbody>\n",
       "</table>\n",
       "</div>"
      ],
      "text/plain": [
       "             tripid  additional_fare       duration  meter_waiting  \\\n",
       "count  1.717600e+04     16974.000000   16974.000000   16974.000000   \n",
       "mean   2.014549e+08        13.719651    1702.858077     629.074231   \n",
       "std    7.456830e+06        98.975052    8120.160818    8063.260669   \n",
       "min    1.891236e+08         0.000000       0.000000       0.000000   \n",
       "25%    1.947619e+08        10.500000     548.000000      33.000000   \n",
       "50%    2.013582e+08        10.500000    1009.500000     123.000000   \n",
       "75%    2.083081e+08        10.500000    1803.000000     351.000000   \n",
       "max    2.138173e+08     12795.030000  453872.000000  453650.000000   \n",
       "\n",
       "       meter_waiting_fare  meter_waiting_till_pickup      pick_lat  \\\n",
       "count        16974.000000               16974.000000  17176.000000   \n",
       "mean            32.057666                 112.466832      6.965499   \n",
       "std            465.483573                 442.054812      0.210760   \n",
       "min              0.000000                   0.000000      5.937600   \n",
       "25%              0.000000                  26.000000      6.865077   \n",
       "50%              0.116600                  73.000000      6.914105   \n",
       "75%             14.341800                 144.000000      7.043057   \n",
       "max          26198.601400               51288.000000      8.051010   \n",
       "\n",
       "           pick_lon      drop_lat      drop_lon          fare  \n",
       "count  17176.000000  17176.000000  17176.000000  17039.000000  \n",
       "mean      79.998389      6.968587     79.997534    312.655466  \n",
       "std        0.243384      0.378669      0.359648    605.300565  \n",
       "min       79.819100      5.941860     45.307700      0.000000  \n",
       "25%       79.870400      6.865625     79.870100    125.515000  \n",
       "50%       79.898600      6.916160     79.899100    211.180000  \n",
       "75%       79.956600      7.047195     79.960225    366.465000  \n",
       "max       81.009600     48.132000     81.009700  26945.990000  "
      ]
     },
     "execution_count": 8,
     "metadata": {},
     "output_type": "execute_result"
    }
   ],
   "source": [
    "train_df.describe()"
   ]
  },
  {
   "cell_type": "code",
   "execution_count": 9,
   "metadata": {},
   "outputs": [
    {
     "data": {
      "text/html": [
       "<div>\n",
       "<style scoped>\n",
       "    .dataframe tbody tr th:only-of-type {\n",
       "        vertical-align: middle;\n",
       "    }\n",
       "\n",
       "    .dataframe tbody tr th {\n",
       "        vertical-align: top;\n",
       "    }\n",
       "\n",
       "    .dataframe thead th {\n",
       "        text-align: right;\n",
       "    }\n",
       "</style>\n",
       "<table border=\"1\" class=\"dataframe\">\n",
       "  <thead>\n",
       "    <tr style=\"text-align: right;\">\n",
       "      <th></th>\n",
       "      <th>tripid</th>\n",
       "      <th>additional_fare</th>\n",
       "      <th>duration</th>\n",
       "      <th>meter_waiting</th>\n",
       "      <th>meter_waiting_fare</th>\n",
       "      <th>meter_waiting_till_pickup</th>\n",
       "      <th>pick_lat</th>\n",
       "      <th>pick_lon</th>\n",
       "      <th>drop_lat</th>\n",
       "      <th>drop_lon</th>\n",
       "      <th>fare</th>\n",
       "    </tr>\n",
       "  </thead>\n",
       "  <tbody>\n",
       "    <tr>\n",
       "      <th>count</th>\n",
       "      <td>8.576000e+03</td>\n",
       "      <td>8576.000000</td>\n",
       "      <td>8576.000000</td>\n",
       "      <td>8576.000000</td>\n",
       "      <td>8576.000000</td>\n",
       "      <td>8576.000000</td>\n",
       "      <td>8576.000000</td>\n",
       "      <td>8576.000000</td>\n",
       "      <td>8576.000000</td>\n",
       "      <td>8576.000000</td>\n",
       "      <td>8576.000000</td>\n",
       "    </tr>\n",
       "    <tr>\n",
       "      <th>mean</th>\n",
       "      <td>2.180067e+08</td>\n",
       "      <td>11.088095</td>\n",
       "      <td>1541.590485</td>\n",
       "      <td>508.502099</td>\n",
       "      <td>24.671655</td>\n",
       "      <td>119.863106</td>\n",
       "      <td>6.969246</td>\n",
       "      <td>80.008728</td>\n",
       "      <td>6.970008</td>\n",
       "      <td>80.010145</td>\n",
       "      <td>293.278057</td>\n",
       "    </tr>\n",
       "    <tr>\n",
       "      <th>std</th>\n",
       "      <td>2.789252e+06</td>\n",
       "      <td>5.359602</td>\n",
       "      <td>5952.458574</td>\n",
       "      <td>5784.005855</td>\n",
       "      <td>333.515641</td>\n",
       "      <td>793.233190</td>\n",
       "      <td>0.217809</td>\n",
       "      <td>0.251873</td>\n",
       "      <td>0.218826</td>\n",
       "      <td>0.252229</td>\n",
       "      <td>436.730282</td>\n",
       "    </tr>\n",
       "    <tr>\n",
       "      <th>min</th>\n",
       "      <td>2.132846e+08</td>\n",
       "      <td>0.000000</td>\n",
       "      <td>0.000000</td>\n",
       "      <td>0.000000</td>\n",
       "      <td>0.000000</td>\n",
       "      <td>0.000000</td>\n",
       "      <td>5.943130</td>\n",
       "      <td>79.817700</td>\n",
       "      <td>5.936600</td>\n",
       "      <td>79.818000</td>\n",
       "      <td>0.000000</td>\n",
       "    </tr>\n",
       "    <tr>\n",
       "      <th>25%</th>\n",
       "      <td>2.156247e+08</td>\n",
       "      <td>10.500000</td>\n",
       "      <td>540.000000</td>\n",
       "      <td>30.000000</td>\n",
       "      <td>0.000000</td>\n",
       "      <td>26.000000</td>\n",
       "      <td>6.864810</td>\n",
       "      <td>79.871600</td>\n",
       "      <td>6.864950</td>\n",
       "      <td>79.871300</td>\n",
       "      <td>126.077500</td>\n",
       "    </tr>\n",
       "    <tr>\n",
       "      <th>50%</th>\n",
       "      <td>2.179006e+08</td>\n",
       "      <td>10.500000</td>\n",
       "      <td>982.500000</td>\n",
       "      <td>116.000000</td>\n",
       "      <td>0.000000</td>\n",
       "      <td>72.000000</td>\n",
       "      <td>6.913605</td>\n",
       "      <td>79.900500</td>\n",
       "      <td>6.915460</td>\n",
       "      <td>79.902250</td>\n",
       "      <td>203.950000</td>\n",
       "    </tr>\n",
       "    <tr>\n",
       "      <th>75%</th>\n",
       "      <td>2.203904e+08</td>\n",
       "      <td>10.500000</td>\n",
       "      <td>1723.000000</td>\n",
       "      <td>336.250000</td>\n",
       "      <td>11.744200</td>\n",
       "      <td>138.000000</td>\n",
       "      <td>7.068875</td>\n",
       "      <td>79.963225</td>\n",
       "      <td>7.073505</td>\n",
       "      <td>79.967825</td>\n",
       "      <td>344.075000</td>\n",
       "    </tr>\n",
       "    <tr>\n",
       "      <th>max</th>\n",
       "      <td>2.228607e+08</td>\n",
       "      <td>160.500000</td>\n",
       "      <td>447230.000000</td>\n",
       "      <td>446934.000000</td>\n",
       "      <td>25760.361800</td>\n",
       "      <td>55571.000000</td>\n",
       "      <td>8.425010</td>\n",
       "      <td>80.776400</td>\n",
       "      <td>8.421730</td>\n",
       "      <td>80.805500</td>\n",
       "      <td>26844.330000</td>\n",
       "    </tr>\n",
       "  </tbody>\n",
       "</table>\n",
       "</div>"
      ],
      "text/plain": [
       "             tripid  additional_fare       duration  meter_waiting  \\\n",
       "count  8.576000e+03      8576.000000    8576.000000    8576.000000   \n",
       "mean   2.180067e+08        11.088095    1541.590485     508.502099   \n",
       "std    2.789252e+06         5.359602    5952.458574    5784.005855   \n",
       "min    2.132846e+08         0.000000       0.000000       0.000000   \n",
       "25%    2.156247e+08        10.500000     540.000000      30.000000   \n",
       "50%    2.179006e+08        10.500000     982.500000     116.000000   \n",
       "75%    2.203904e+08        10.500000    1723.000000     336.250000   \n",
       "max    2.228607e+08       160.500000  447230.000000  446934.000000   \n",
       "\n",
       "       meter_waiting_fare  meter_waiting_till_pickup     pick_lat  \\\n",
       "count         8576.000000                8576.000000  8576.000000   \n",
       "mean            24.671655                 119.863106     6.969246   \n",
       "std            333.515641                 793.233190     0.217809   \n",
       "min              0.000000                   0.000000     5.943130   \n",
       "25%              0.000000                  26.000000     6.864810   \n",
       "50%              0.000000                  72.000000     6.913605   \n",
       "75%             11.744200                 138.000000     7.068875   \n",
       "max          25760.361800               55571.000000     8.425010   \n",
       "\n",
       "          pick_lon     drop_lat     drop_lon          fare  \n",
       "count  8576.000000  8576.000000  8576.000000   8576.000000  \n",
       "mean     80.008728     6.970008    80.010145    293.278057  \n",
       "std       0.251873     0.218826     0.252229    436.730282  \n",
       "min      79.817700     5.936600    79.818000      0.000000  \n",
       "25%      79.871600     6.864950    79.871300    126.077500  \n",
       "50%      79.900500     6.915460    79.902250    203.950000  \n",
       "75%      79.963225     7.073505    79.967825    344.075000  \n",
       "max      80.776400     8.421730    80.805500  26844.330000  "
      ]
     },
     "execution_count": 9,
     "metadata": {},
     "output_type": "execute_result"
    }
   ],
   "source": [
    "test_df.describe()"
   ]
  },
  {
   "cell_type": "markdown",
   "metadata": {},
   "source": [
    "# Data Cleaning & Missing Value Analysis :"
   ]
  },
  {
   "cell_type": "code",
   "execution_count": 10,
   "metadata": {},
   "outputs": [],
   "source": [
    "# pickup timestamp\n",
    "train_df = train_df.assign(\n",
    "                            pickup_minute=train_df.pickup_time.dt.minute,\n",
    "                            pickup_hour=train_df.pickup_time.dt.hour,\n",
    "                            pickup_date=train_df.pickup_time.dt.day,\n",
    "                            pickup_day = train_df.pickup_time.dt.dayofweek,\n",
    "                            pickup_month=train_df.pickup_time.dt.month,\n",
    "                            pickup_year=train_df.pickup_time.dt.year\n",
    "                        )\n",
    "\n",
    "# drop timestamp\n",
    "train_df = train_df.assign(\n",
    "                            drop_minute=train_df.drop_time.dt.minute,\n",
    "                            drop_hour=train_df.drop_time.dt.hour,\n",
    "                            drop_date=train_df.drop_time.dt.day,\n",
    "                            drop_day = train_df.drop_time.dt.dayofweek,\n",
    "                            drop_month=train_df.drop_time.dt.month,\n",
    "                            drop_year=train_df.drop_time.dt.year,\n",
    "               )"
   ]
  },
  {
   "cell_type": "code",
   "execution_count": 11,
   "metadata": {},
   "outputs": [
    {
     "data": {
      "text/plain": [
       "tripid                                int64\n",
       "additional_fare                     float64\n",
       "duration                            float64\n",
       "meter_waiting                       float64\n",
       "meter_waiting_fare                  float64\n",
       "meter_waiting_till_pickup           float64\n",
       "pickup_time                  datetime64[ns]\n",
       "drop_time                    datetime64[ns]\n",
       "pick_lat                            float64\n",
       "pick_lon                            float64\n",
       "drop_lat                            float64\n",
       "drop_lon                            float64\n",
       "fare                                float64\n",
       "label                                object\n",
       "pickup_date                           int64\n",
       "pickup_day                            int64\n",
       "pickup_hour                           int64\n",
       "pickup_minute                         int64\n",
       "pickup_month                          int64\n",
       "pickup_year                           int64\n",
       "drop_date                             int64\n",
       "drop_day                              int64\n",
       "drop_hour                             int64\n",
       "drop_minute                           int64\n",
       "drop_month                            int64\n",
       "drop_year                             int64\n",
       "dtype: object"
      ]
     },
     "execution_count": 11,
     "metadata": {},
     "output_type": "execute_result"
    }
   ],
   "source": [
    "train_df.dtypes"
   ]
  },
  {
   "cell_type": "code",
   "execution_count": 12,
   "metadata": {},
   "outputs": [],
   "source": [
    "# pickup timestamp\n",
    "test_df = test_df.assign(\n",
    "                            pickup_minute=test_df.pickup_time.dt.minute,\n",
    "                            pickup_hour=test_df.pickup_time.dt.hour,\n",
    "                            pickup_date=test_df.pickup_time.dt.day,\n",
    "                            pickup_day = test_df.pickup_time.dt.dayofweek,\n",
    "                            pickup_month=test_df.pickup_time.dt.month,\n",
    "                            pickup_year=test_df.pickup_time.dt.year\n",
    "                        )\n",
    "\n",
    "# drop timestamp\n",
    "test_df = test_df.assign(\n",
    "                            drop_minute=test_df.drop_time.dt.minute,\n",
    "                            drop_hour=test_df.drop_time.dt.hour,\n",
    "                            drop_date=test_df.drop_time.dt.day,\n",
    "                            drop_day = test_df.drop_time.dt.dayofweek,\n",
    "                            drop_month=test_df.drop_time.dt.month,\n",
    "                            drop_year=test_df.drop_time.dt.year,\n",
    "               )"
   ]
  },
  {
   "cell_type": "code",
   "execution_count": 13,
   "metadata": {},
   "outputs": [
    {
     "data": {
      "text/plain": [
       "tripid                                int64\n",
       "additional_fare                     float64\n",
       "duration                              int64\n",
       "meter_waiting                         int64\n",
       "meter_waiting_fare                  float64\n",
       "meter_waiting_till_pickup             int64\n",
       "pickup_time                  datetime64[ns]\n",
       "drop_time                    datetime64[ns]\n",
       "pick_lat                            float64\n",
       "pick_lon                            float64\n",
       "drop_lat                            float64\n",
       "drop_lon                            float64\n",
       "fare                                float64\n",
       "pickup_date                           int64\n",
       "pickup_day                            int64\n",
       "pickup_hour                           int64\n",
       "pickup_minute                         int64\n",
       "pickup_month                          int64\n",
       "pickup_year                           int64\n",
       "drop_date                             int64\n",
       "drop_day                              int64\n",
       "drop_hour                             int64\n",
       "drop_minute                           int64\n",
       "drop_month                            int64\n",
       "drop_year                             int64\n",
       "dtype: object"
      ]
     },
     "execution_count": 13,
     "metadata": {},
     "output_type": "execute_result"
    }
   ],
   "source": [
    "test_df.dtypes"
   ]
  },
  {
   "cell_type": "code",
   "execution_count": 14,
   "metadata": {},
   "outputs": [
    {
     "data": {
      "text/plain": [
       "tripid                         0\n",
       "additional_fare              202\n",
       "duration                     202\n",
       "meter_waiting                202\n",
       "meter_waiting_fare           202\n",
       "meter_waiting_till_pickup    202\n",
       "pickup_time                    0\n",
       "drop_time                      0\n",
       "pick_lat                       0\n",
       "pick_lon                       0\n",
       "drop_lat                       0\n",
       "drop_lon                       0\n",
       "fare                         137\n",
       "label                          0\n",
       "pickup_date                    0\n",
       "pickup_day                     0\n",
       "pickup_hour                    0\n",
       "pickup_minute                  0\n",
       "pickup_month                   0\n",
       "pickup_year                    0\n",
       "drop_date                      0\n",
       "drop_day                       0\n",
       "drop_hour                      0\n",
       "drop_minute                    0\n",
       "drop_month                     0\n",
       "drop_year                      0\n",
       "dtype: int64"
      ]
     },
     "execution_count": 14,
     "metadata": {},
     "output_type": "execute_result"
    }
   ],
   "source": [
    "train_df.isnull().sum()"
   ]
  },
  {
   "cell_type": "code",
   "execution_count": 15,
   "metadata": {},
   "outputs": [
    {
     "data": {
      "text/plain": [
       "tripid                       0\n",
       "additional_fare              0\n",
       "duration                     0\n",
       "meter_waiting                0\n",
       "meter_waiting_fare           0\n",
       "meter_waiting_till_pickup    0\n",
       "pickup_time                  0\n",
       "drop_time                    0\n",
       "pick_lat                     0\n",
       "pick_lon                     0\n",
       "drop_lat                     0\n",
       "drop_lon                     0\n",
       "fare                         0\n",
       "pickup_date                  0\n",
       "pickup_day                   0\n",
       "pickup_hour                  0\n",
       "pickup_minute                0\n",
       "pickup_month                 0\n",
       "pickup_year                  0\n",
       "drop_date                    0\n",
       "drop_day                     0\n",
       "drop_hour                    0\n",
       "drop_minute                  0\n",
       "drop_month                   0\n",
       "drop_year                    0\n",
       "dtype: int64"
      ]
     },
     "execution_count": 15,
     "metadata": {},
     "output_type": "execute_result"
    }
   ],
   "source": [
    "test_df.isnull().sum()"
   ]
  },
  {
   "cell_type": "code",
   "execution_count": 16,
   "metadata": {},
   "outputs": [
    {
     "name": "stdout",
     "output_type": "stream",
     "text": [
      "train shape before drop Nan  (17176, 26)\n",
      "train shape after drop Nan  (16968, 26)\n"
     ]
    }
   ],
   "source": [
    "print('train shape before drop Nan ', train_df.shape)\n",
    "train_df = train_df.dropna()\n",
    "print('train shape after drop Nan ', train_df.shape)"
   ]
  },
  {
   "cell_type": "code",
   "execution_count": 17,
   "metadata": {},
   "outputs": [
    {
     "data": {
      "text/plain": [
       "tripid                       0\n",
       "additional_fare              0\n",
       "duration                     0\n",
       "meter_waiting                0\n",
       "meter_waiting_fare           0\n",
       "meter_waiting_till_pickup    0\n",
       "pickup_time                  0\n",
       "drop_time                    0\n",
       "pick_lat                     0\n",
       "pick_lon                     0\n",
       "drop_lat                     0\n",
       "drop_lon                     0\n",
       "fare                         0\n",
       "label                        0\n",
       "pickup_date                  0\n",
       "pickup_day                   0\n",
       "pickup_hour                  0\n",
       "pickup_minute                0\n",
       "pickup_month                 0\n",
       "pickup_year                  0\n",
       "drop_date                    0\n",
       "drop_day                     0\n",
       "drop_hour                    0\n",
       "drop_minute                  0\n",
       "drop_month                   0\n",
       "drop_year                    0\n",
       "dtype: int64"
      ]
     },
     "execution_count": 17,
     "metadata": {},
     "output_type": "execute_result"
    }
   ],
   "source": [
    "train_df.isnull().sum()"
   ]
  },
  {
   "cell_type": "code",
   "execution_count": 18,
   "metadata": {},
   "outputs": [
    {
     "data": {
      "text/html": [
       "<div>\n",
       "<style scoped>\n",
       "    .dataframe tbody tr th:only-of-type {\n",
       "        vertical-align: middle;\n",
       "    }\n",
       "\n",
       "    .dataframe tbody tr th {\n",
       "        vertical-align: top;\n",
       "    }\n",
       "\n",
       "    .dataframe thead th {\n",
       "        text-align: right;\n",
       "    }\n",
       "</style>\n",
       "<table border=\"1\" class=\"dataframe\">\n",
       "  <thead>\n",
       "    <tr style=\"text-align: right;\">\n",
       "      <th></th>\n",
       "      <th>tripid</th>\n",
       "      <th>additional_fare</th>\n",
       "      <th>duration</th>\n",
       "      <th>meter_waiting</th>\n",
       "      <th>meter_waiting_fare</th>\n",
       "      <th>meter_waiting_till_pickup</th>\n",
       "      <th>pick_lat</th>\n",
       "      <th>pick_lon</th>\n",
       "      <th>drop_lat</th>\n",
       "      <th>drop_lon</th>\n",
       "      <th>...</th>\n",
       "      <th>pickup_hour</th>\n",
       "      <th>pickup_minute</th>\n",
       "      <th>pickup_month</th>\n",
       "      <th>pickup_year</th>\n",
       "      <th>drop_date</th>\n",
       "      <th>drop_day</th>\n",
       "      <th>drop_hour</th>\n",
       "      <th>drop_minute</th>\n",
       "      <th>drop_month</th>\n",
       "      <th>drop_year</th>\n",
       "    </tr>\n",
       "  </thead>\n",
       "  <tbody>\n",
       "    <tr>\n",
       "      <th>count</th>\n",
       "      <td>1.696800e+04</td>\n",
       "      <td>16968.000000</td>\n",
       "      <td>16968.000000</td>\n",
       "      <td>16968.000000</td>\n",
       "      <td>16968.000000</td>\n",
       "      <td>16968.000000</td>\n",
       "      <td>16968.000000</td>\n",
       "      <td>16968.000000</td>\n",
       "      <td>16968.000000</td>\n",
       "      <td>16968.000000</td>\n",
       "      <td>...</td>\n",
       "      <td>16968.000000</td>\n",
       "      <td>16968.000000</td>\n",
       "      <td>16968.000000</td>\n",
       "      <td>16968.000000</td>\n",
       "      <td>16968.000000</td>\n",
       "      <td>16968.000000</td>\n",
       "      <td>16968.000000</td>\n",
       "      <td>16968.000000</td>\n",
       "      <td>16968.000000</td>\n",
       "      <td>16968.000000</td>\n",
       "    </tr>\n",
       "    <tr>\n",
       "      <th>mean</th>\n",
       "      <td>2.014695e+08</td>\n",
       "      <td>13.721437</td>\n",
       "      <td>1702.836987</td>\n",
       "      <td>628.875000</td>\n",
       "      <td>32.045122</td>\n",
       "      <td>112.489510</td>\n",
       "      <td>6.965160</td>\n",
       "      <td>79.998018</td>\n",
       "      <td>6.968278</td>\n",
       "      <td>79.997108</td>\n",
       "      <td>...</td>\n",
       "      <td>13.802746</td>\n",
       "      <td>29.486150</td>\n",
       "      <td>7.950024</td>\n",
       "      <td>2019.339816</td>\n",
       "      <td>15.859795</td>\n",
       "      <td>2.921676</td>\n",
       "      <td>14.081978</td>\n",
       "      <td>29.411363</td>\n",
       "      <td>7.948845</td>\n",
       "      <td>2019.339934</td>\n",
       "    </tr>\n",
       "    <tr>\n",
       "      <th>std</th>\n",
       "      <td>7.453627e+06</td>\n",
       "      <td>98.992493</td>\n",
       "      <td>8121.556167</td>\n",
       "      <td>8064.657846</td>\n",
       "      <td>465.564240</td>\n",
       "      <td>442.129943</td>\n",
       "      <td>0.210840</td>\n",
       "      <td>0.242832</td>\n",
       "      <td>0.380253</td>\n",
       "      <td>0.360503</td>\n",
       "      <td>...</td>\n",
       "      <td>4.819490</td>\n",
       "      <td>17.286925</td>\n",
       "      <td>5.002891</td>\n",
       "      <td>0.473661</td>\n",
       "      <td>8.844116</td>\n",
       "      <td>1.940758</td>\n",
       "      <td>4.881727</td>\n",
       "      <td>17.381706</td>\n",
       "      <td>5.003350</td>\n",
       "      <td>0.473700</td>\n",
       "    </tr>\n",
       "    <tr>\n",
       "      <th>min</th>\n",
       "      <td>1.891236e+08</td>\n",
       "      <td>0.000000</td>\n",
       "      <td>0.000000</td>\n",
       "      <td>0.000000</td>\n",
       "      <td>0.000000</td>\n",
       "      <td>0.000000</td>\n",
       "      <td>5.937600</td>\n",
       "      <td>79.819100</td>\n",
       "      <td>5.941860</td>\n",
       "      <td>45.307700</td>\n",
       "      <td>...</td>\n",
       "      <td>0.000000</td>\n",
       "      <td>0.000000</td>\n",
       "      <td>1.000000</td>\n",
       "      <td>2019.000000</td>\n",
       "      <td>1.000000</td>\n",
       "      <td>0.000000</td>\n",
       "      <td>0.000000</td>\n",
       "      <td>0.000000</td>\n",
       "      <td>1.000000</td>\n",
       "      <td>2019.000000</td>\n",
       "    </tr>\n",
       "    <tr>\n",
       "      <th>25%</th>\n",
       "      <td>1.947342e+08</td>\n",
       "      <td>10.500000</td>\n",
       "      <td>548.000000</td>\n",
       "      <td>33.000000</td>\n",
       "      <td>0.000000</td>\n",
       "      <td>26.000000</td>\n",
       "      <td>6.864830</td>\n",
       "      <td>79.870475</td>\n",
       "      <td>6.865580</td>\n",
       "      <td>79.870100</td>\n",
       "      <td>...</td>\n",
       "      <td>10.000000</td>\n",
       "      <td>15.000000</td>\n",
       "      <td>1.000000</td>\n",
       "      <td>2019.000000</td>\n",
       "      <td>8.000000</td>\n",
       "      <td>1.000000</td>\n",
       "      <td>11.000000</td>\n",
       "      <td>14.000000</td>\n",
       "      <td>1.000000</td>\n",
       "      <td>2019.000000</td>\n",
       "    </tr>\n",
       "    <tr>\n",
       "      <th>50%</th>\n",
       "      <td>2.013928e+08</td>\n",
       "      <td>10.500000</td>\n",
       "      <td>1009.000000</td>\n",
       "      <td>123.000000</td>\n",
       "      <td>0.115600</td>\n",
       "      <td>73.000000</td>\n",
       "      <td>6.913970</td>\n",
       "      <td>79.898600</td>\n",
       "      <td>6.915940</td>\n",
       "      <td>79.899000</td>\n",
       "      <td>...</td>\n",
       "      <td>14.000000</td>\n",
       "      <td>29.000000</td>\n",
       "      <td>11.000000</td>\n",
       "      <td>2019.000000</td>\n",
       "      <td>16.000000</td>\n",
       "      <td>3.000000</td>\n",
       "      <td>14.000000</td>\n",
       "      <td>29.000000</td>\n",
       "      <td>11.000000</td>\n",
       "      <td>2019.000000</td>\n",
       "    </tr>\n",
       "    <tr>\n",
       "      <th>75%</th>\n",
       "      <td>2.083314e+08</td>\n",
       "      <td>10.500000</td>\n",
       "      <td>1802.250000</td>\n",
       "      <td>351.000000</td>\n",
       "      <td>14.334400</td>\n",
       "      <td>144.000000</td>\n",
       "      <td>7.042698</td>\n",
       "      <td>79.956500</td>\n",
       "      <td>7.046555</td>\n",
       "      <td>79.960000</td>\n",
       "      <td>...</td>\n",
       "      <td>18.000000</td>\n",
       "      <td>45.000000</td>\n",
       "      <td>12.000000</td>\n",
       "      <td>2020.000000</td>\n",
       "      <td>23.000000</td>\n",
       "      <td>5.000000</td>\n",
       "      <td>18.000000</td>\n",
       "      <td>44.000000</td>\n",
       "      <td>12.000000</td>\n",
       "      <td>2020.000000</td>\n",
       "    </tr>\n",
       "    <tr>\n",
       "      <th>max</th>\n",
       "      <td>2.138173e+08</td>\n",
       "      <td>12795.030000</td>\n",
       "      <td>453872.000000</td>\n",
       "      <td>453650.000000</td>\n",
       "      <td>26198.601400</td>\n",
       "      <td>51288.000000</td>\n",
       "      <td>8.051010</td>\n",
       "      <td>81.009600</td>\n",
       "      <td>48.132000</td>\n",
       "      <td>81.009700</td>\n",
       "      <td>...</td>\n",
       "      <td>23.000000</td>\n",
       "      <td>59.000000</td>\n",
       "      <td>12.000000</td>\n",
       "      <td>2020.000000</td>\n",
       "      <td>31.000000</td>\n",
       "      <td>6.000000</td>\n",
       "      <td>23.000000</td>\n",
       "      <td>59.000000</td>\n",
       "      <td>12.000000</td>\n",
       "      <td>2020.000000</td>\n",
       "    </tr>\n",
       "  </tbody>\n",
       "</table>\n",
       "<p>8 rows × 23 columns</p>\n",
       "</div>"
      ],
      "text/plain": [
       "             tripid  additional_fare       duration  meter_waiting  \\\n",
       "count  1.696800e+04     16968.000000   16968.000000   16968.000000   \n",
       "mean   2.014695e+08        13.721437    1702.836987     628.875000   \n",
       "std    7.453627e+06        98.992493    8121.556167    8064.657846   \n",
       "min    1.891236e+08         0.000000       0.000000       0.000000   \n",
       "25%    1.947342e+08        10.500000     548.000000      33.000000   \n",
       "50%    2.013928e+08        10.500000    1009.000000     123.000000   \n",
       "75%    2.083314e+08        10.500000    1802.250000     351.000000   \n",
       "max    2.138173e+08     12795.030000  453872.000000  453650.000000   \n",
       "\n",
       "       meter_waiting_fare  meter_waiting_till_pickup      pick_lat  \\\n",
       "count        16968.000000               16968.000000  16968.000000   \n",
       "mean            32.045122                 112.489510      6.965160   \n",
       "std            465.564240                 442.129943      0.210840   \n",
       "min              0.000000                   0.000000      5.937600   \n",
       "25%              0.000000                  26.000000      6.864830   \n",
       "50%              0.115600                  73.000000      6.913970   \n",
       "75%             14.334400                 144.000000      7.042698   \n",
       "max          26198.601400               51288.000000      8.051010   \n",
       "\n",
       "           pick_lon      drop_lat      drop_lon  ...   pickup_hour  \\\n",
       "count  16968.000000  16968.000000  16968.000000  ...  16968.000000   \n",
       "mean      79.998018      6.968278     79.997108  ...     13.802746   \n",
       "std        0.242832      0.380253      0.360503  ...      4.819490   \n",
       "min       79.819100      5.941860     45.307700  ...      0.000000   \n",
       "25%       79.870475      6.865580     79.870100  ...     10.000000   \n",
       "50%       79.898600      6.915940     79.899000  ...     14.000000   \n",
       "75%       79.956500      7.046555     79.960000  ...     18.000000   \n",
       "max       81.009600     48.132000     81.009700  ...     23.000000   \n",
       "\n",
       "       pickup_minute  pickup_month   pickup_year     drop_date      drop_day  \\\n",
       "count   16968.000000  16968.000000  16968.000000  16968.000000  16968.000000   \n",
       "mean       29.486150      7.950024   2019.339816     15.859795      2.921676   \n",
       "std        17.286925      5.002891      0.473661      8.844116      1.940758   \n",
       "min         0.000000      1.000000   2019.000000      1.000000      0.000000   \n",
       "25%        15.000000      1.000000   2019.000000      8.000000      1.000000   \n",
       "50%        29.000000     11.000000   2019.000000     16.000000      3.000000   \n",
       "75%        45.000000     12.000000   2020.000000     23.000000      5.000000   \n",
       "max        59.000000     12.000000   2020.000000     31.000000      6.000000   \n",
       "\n",
       "          drop_hour   drop_minute    drop_month     drop_year  \n",
       "count  16968.000000  16968.000000  16968.000000  16968.000000  \n",
       "mean      14.081978     29.411363      7.948845   2019.339934  \n",
       "std        4.881727     17.381706      5.003350      0.473700  \n",
       "min        0.000000      0.000000      1.000000   2019.000000  \n",
       "25%       11.000000     14.000000      1.000000   2019.000000  \n",
       "50%       14.000000     29.000000     11.000000   2019.000000  \n",
       "75%       18.000000     44.000000     12.000000   2020.000000  \n",
       "max       23.000000     59.000000     12.000000   2020.000000  \n",
       "\n",
       "[8 rows x 23 columns]"
      ]
     },
     "execution_count": 18,
     "metadata": {},
     "output_type": "execute_result"
    }
   ],
   "source": [
    "train_df.describe()"
   ]
  },
  {
   "cell_type": "code",
   "execution_count": 19,
   "metadata": {},
   "outputs": [
    {
     "data": {
      "text/plain": [
       "16742         0.0\n",
       "3549          0.0\n",
       "63           22.0\n",
       "4026         22.0\n",
       "2716         22.0\n",
       "           ...   \n",
       "7415     316978.0\n",
       "4088     339351.0\n",
       "2632     435397.0\n",
       "4898     442190.0\n",
       "14437    453872.0\n",
       "Name: duration, Length: 16968, dtype: float64"
      ]
     },
     "execution_count": 19,
     "metadata": {},
     "output_type": "execute_result"
    }
   ],
   "source": [
    "train_df[\"duration\"].sort_values(ascending= True)"
   ]
  },
  {
   "cell_type": "code",
   "execution_count": 20,
   "metadata": {},
   "outputs": [
    {
     "data": {
      "text/plain": [
       "1735         0\n",
       "652         24\n",
       "3627        25\n",
       "5825        25\n",
       "8392        25\n",
       "         ...  \n",
       "6490     83610\n",
       "685      88295\n",
       "8053    107539\n",
       "1514    165634\n",
       "1826    447230\n",
       "Name: duration, Length: 8576, dtype: int64"
      ]
     },
     "execution_count": 20,
     "metadata": {},
     "output_type": "execute_result"
    }
   ],
   "source": [
    "test_df[\"duration\"].sort_values(ascending= True)"
   ]
  },
  {
   "cell_type": "code",
   "execution_count": 21,
   "metadata": {},
   "outputs": [
    {
     "data": {
      "text/html": [
       "<div>\n",
       "<style scoped>\n",
       "    .dataframe tbody tr th:only-of-type {\n",
       "        vertical-align: middle;\n",
       "    }\n",
       "\n",
       "    .dataframe tbody tr th {\n",
       "        vertical-align: top;\n",
       "    }\n",
       "\n",
       "    .dataframe thead th {\n",
       "        text-align: right;\n",
       "    }\n",
       "</style>\n",
       "<table border=\"1\" class=\"dataframe\">\n",
       "  <thead>\n",
       "    <tr style=\"text-align: right;\">\n",
       "      <th></th>\n",
       "      <th>fare</th>\n",
       "    </tr>\n",
       "  </thead>\n",
       "  <tbody>\n",
       "    <tr>\n",
       "      <th>3549</th>\n",
       "      <td>0.0</td>\n",
       "    </tr>\n",
       "  </tbody>\n",
       "</table>\n",
       "</div>"
      ],
      "text/plain": [
       "      fare\n",
       "3549   0.0"
      ]
     },
     "execution_count": 21,
     "metadata": {},
     "output_type": "execute_result"
    }
   ],
   "source": [
    "train_df.loc[3549:3549 ,['fare']]"
   ]
  },
  {
   "cell_type": "markdown",
   "metadata": {},
   "source": [
    "duration must be greater than 0"
   ]
  },
  {
   "cell_type": "code",
   "execution_count": 22,
   "metadata": {},
   "outputs": [],
   "source": [
    "# train_df = train_df.drop(train_df[train_df[\"duration\"] == 0.0 ].index, axis=0)\n",
    "# train_df.shape"
   ]
  },
  {
   "cell_type": "code",
   "execution_count": 23,
   "metadata": {},
   "outputs": [
    {
     "data": {
      "text/plain": [
       "14437    26945.99\n",
       "4898     26098.75\n",
       "2632     25315.09\n",
       "14043    25097.59\n",
       "4088     19865.46\n",
       "           ...   \n",
       "2415         0.00\n",
       "3549         0.00\n",
       "2420         0.00\n",
       "4412         0.00\n",
       "2450         0.00\n",
       "Name: fare, Length: 16968, dtype: float64"
      ]
     },
     "execution_count": 23,
     "metadata": {},
     "output_type": "execute_result"
    }
   ],
   "source": [
    "train_df[\"fare\"].sort_values(ascending= False)"
   ]
  },
  {
   "cell_type": "code",
   "execution_count": 24,
   "metadata": {},
   "outputs": [
    {
     "data": {
      "text/plain": [
       "1826    26844.33\n",
       "1514    10479.48\n",
       "6490     7073.71\n",
       "8053     6550.31\n",
       "685      5632.27\n",
       "          ...   \n",
       "787        60.00\n",
       "7334       60.00\n",
       "43         50.86\n",
       "3519        0.00\n",
       "1735        0.00\n",
       "Name: fare, Length: 8576, dtype: float64"
      ]
     },
     "execution_count": 24,
     "metadata": {},
     "output_type": "execute_result"
    }
   ],
   "source": [
    "test_df[\"fare\"].sort_values(ascending= False)"
   ]
  },
  {
   "cell_type": "code",
   "execution_count": 25,
   "metadata": {},
   "outputs": [
    {
     "data": {
      "text/html": [
       "<div>\n",
       "<style scoped>\n",
       "    .dataframe tbody tr th:only-of-type {\n",
       "        vertical-align: middle;\n",
       "    }\n",
       "\n",
       "    .dataframe tbody tr th {\n",
       "        vertical-align: top;\n",
       "    }\n",
       "\n",
       "    .dataframe thead th {\n",
       "        text-align: right;\n",
       "    }\n",
       "</style>\n",
       "<table border=\"1\" class=\"dataframe\">\n",
       "  <thead>\n",
       "    <tr style=\"text-align: right;\">\n",
       "      <th></th>\n",
       "      <th>fare</th>\n",
       "    </tr>\n",
       "  </thead>\n",
       "  <tbody>\n",
       "    <tr>\n",
       "      <th>4412</th>\n",
       "      <td>0.0</td>\n",
       "    </tr>\n",
       "  </tbody>\n",
       "</table>\n",
       "</div>"
      ],
      "text/plain": [
       "      fare\n",
       "4412   0.0"
      ]
     },
     "execution_count": 25,
     "metadata": {},
     "output_type": "execute_result"
    }
   ],
   "source": [
    "train_df.loc[4412:4412 ,['fare']]"
   ]
  },
  {
   "cell_type": "markdown",
   "metadata": {},
   "source": [
    "Fair cannot be 0"
   ]
  },
  {
   "cell_type": "code",
   "execution_count": 26,
   "metadata": {},
   "outputs": [],
   "source": [
    "# train_df = train_df.drop(train_df[train_df[\"fare\"] == 0.0 ].index, axis=0)\n",
    "# train_df.shape"
   ]
  },
  {
   "cell_type": "code",
   "execution_count": 27,
   "metadata": {},
   "outputs": [
    {
     "data": {
      "text/plain": [
       "74         correct\n",
       "1885     incorrect\n",
       "2632     incorrect\n",
       "3365     incorrect\n",
       "4088     incorrect\n",
       "4898     incorrect\n",
       "7415     incorrect\n",
       "8250     incorrect\n",
       "13055    incorrect\n",
       "14043    incorrect\n",
       "14437      correct\n",
       "Name: label, dtype: object"
      ]
     },
     "execution_count": 27,
     "metadata": {},
     "output_type": "execute_result"
    }
   ],
   "source": [
    "train_df[train_df['fare']>10000]['label']"
   ]
  },
  {
   "cell_type": "code",
   "execution_count": 28,
   "metadata": {},
   "outputs": [],
   "source": [
    "def haversine(a):\n",
    "    lon1=a[0]\n",
    "    lat1=a[1]\n",
    "    lon2=a[2]\n",
    "    lat2=a[3]\n",
    "    \"\"\"\n",
    "    Calculate the great circle distance between two points \n",
    "    on the earth (specified in decimal degrees)\n",
    "    \"\"\"\n",
    "    # convert decimal degrees to radians \n",
    "    lon1, lat1, lon2, lat2 = map(radians, [lon1, lat1, lon2, lat2])\n",
    "    \n",
    "    # haversine formula \n",
    "    dlon = lon2 - lon1 \n",
    "    dlat = lat2 - lat1 \n",
    "    a = sin(dlat/2)**2 + cos(lat1) * cos(lat2) * sin(dlon/2)**2\n",
    "    c =  2 * asin(sqrt(a))\n",
    "    # Radius of earth in kilometers is 6371\n",
    "    km = 6371* c\n",
    "    return km"
   ]
  },
  {
   "cell_type": "code",
   "execution_count": 29,
   "metadata": {},
   "outputs": [],
   "source": [
    "train_df['distance'] = train_df[['pick_lon','pick_lat','drop_lon','drop_lat']].apply(haversine,axis=1)"
   ]
  },
  {
   "cell_type": "code",
   "execution_count": 30,
   "metadata": {},
   "outputs": [],
   "source": [
    "test_df['distance'] = test_df[['pick_lon','pick_lat','drop_lon','drop_lat']].apply(haversine,axis=1)"
   ]
  },
  {
   "cell_type": "code",
   "execution_count": 31,
   "metadata": {},
   "outputs": [
    {
     "data": {
      "text/plain": [
       "tripid                                int64\n",
       "additional_fare                     float64\n",
       "duration                            float64\n",
       "meter_waiting                       float64\n",
       "meter_waiting_fare                  float64\n",
       "meter_waiting_till_pickup           float64\n",
       "pickup_time                  datetime64[ns]\n",
       "drop_time                    datetime64[ns]\n",
       "pick_lat                            float64\n",
       "pick_lon                            float64\n",
       "drop_lat                            float64\n",
       "drop_lon                            float64\n",
       "fare                                float64\n",
       "label                                object\n",
       "pickup_date                           int64\n",
       "pickup_day                            int64\n",
       "pickup_hour                           int64\n",
       "pickup_minute                         int64\n",
       "pickup_month                          int64\n",
       "pickup_year                           int64\n",
       "drop_date                             int64\n",
       "drop_day                              int64\n",
       "drop_hour                             int64\n",
       "drop_minute                           int64\n",
       "drop_month                            int64\n",
       "drop_year                             int64\n",
       "distance                            float64\n",
       "dtype: object"
      ]
     },
     "execution_count": 31,
     "metadata": {},
     "output_type": "execute_result"
    }
   ],
   "source": [
    "train_df.dtypes"
   ]
  },
  {
   "cell_type": "code",
   "execution_count": 32,
   "metadata": {},
   "outputs": [
    {
     "data": {
      "text/plain": [
       "tripid                                int64\n",
       "additional_fare                     float64\n",
       "duration                              int64\n",
       "meter_waiting                         int64\n",
       "meter_waiting_fare                  float64\n",
       "meter_waiting_till_pickup             int64\n",
       "pickup_time                  datetime64[ns]\n",
       "drop_time                    datetime64[ns]\n",
       "pick_lat                            float64\n",
       "pick_lon                            float64\n",
       "drop_lat                            float64\n",
       "drop_lon                            float64\n",
       "fare                                float64\n",
       "pickup_date                           int64\n",
       "pickup_day                            int64\n",
       "pickup_hour                           int64\n",
       "pickup_minute                         int64\n",
       "pickup_month                          int64\n",
       "pickup_year                           int64\n",
       "drop_date                             int64\n",
       "drop_day                              int64\n",
       "drop_hour                             int64\n",
       "drop_minute                           int64\n",
       "drop_month                            int64\n",
       "drop_year                             int64\n",
       "distance                            float64\n",
       "dtype: object"
      ]
     },
     "execution_count": 32,
     "metadata": {},
     "output_type": "execute_result"
    }
   ],
   "source": [
    "test_df.dtypes"
   ]
  },
  {
   "cell_type": "code",
   "execution_count": 33,
   "metadata": {},
   "outputs": [
    {
     "data": {
      "text/plain": [
       "tripid                       16965\n",
       "additional_fare                 28\n",
       "duration                      4053\n",
       "meter_waiting                 1896\n",
       "meter_waiting_fare            3730\n",
       "meter_waiting_till_pickup      702\n",
       "pickup_time                  15439\n",
       "drop_time                    15487\n",
       "pick_lat                     13132\n",
       "pick_lon                      2960\n",
       "drop_lat                     13278\n",
       "drop_lon                      3212\n",
       "fare                         13752\n",
       "label                            2\n",
       "pickup_date                     31\n",
       "pickup_day                       7\n",
       "pickup_hour                     24\n",
       "pickup_minute                   60\n",
       "pickup_month                     3\n",
       "pickup_year                      2\n",
       "drop_date                       31\n",
       "drop_day                         7\n",
       "drop_hour                       24\n",
       "drop_minute                     60\n",
       "drop_month                       3\n",
       "drop_year                        2\n",
       "distance                     16693\n",
       "dtype: int64"
      ]
     },
     "execution_count": 33,
     "metadata": {},
     "output_type": "execute_result"
    }
   ],
   "source": [
    "train_df.nunique()"
   ]
  },
  {
   "cell_type": "code",
   "execution_count": 34,
   "metadata": {},
   "outputs": [
    {
     "data": {
      "text/plain": [
       "(16968, 27)"
      ]
     },
     "execution_count": 34,
     "metadata": {},
     "output_type": "execute_result"
    }
   ],
   "source": [
    "train_df.shape"
   ]
  },
  {
   "cell_type": "code",
   "execution_count": 36,
   "metadata": {},
   "outputs": [
    {
     "data": {
      "text/plain": [
       "920      5609.521440\n",
       "14045      79.220774\n",
       "14138      76.782309\n",
       "3793       69.286259\n",
       "13055      63.185874\n",
       "            ...     \n",
       "3832        0.000000\n",
       "9788        0.000000\n",
       "8041        0.000000\n",
       "15471       0.000000\n",
       "2090        0.000000\n",
       "Name: distance, Length: 16968, dtype: float64"
      ]
     },
     "execution_count": 36,
     "metadata": {},
     "output_type": "execute_result"
    }
   ],
   "source": [
    "##finding decending order of fare to get to know whether the outliers are presented or not\n",
    "train_df['distance'].sort_values(ascending=False)"
   ]
  },
  {
   "cell_type": "code",
   "execution_count": 37,
   "metadata": {},
   "outputs": [
    {
     "data": {
      "text/plain": [
       "0.0    37\n",
       "Name: distance, dtype: int64"
      ]
     },
     "execution_count": 37,
     "metadata": {},
     "output_type": "execute_result"
    }
   ],
   "source": [
    "train_df[train_df['distance']==0.0]['distance'].value_counts()"
   ]
  },
  {
   "cell_type": "code",
   "execution_count": 38,
   "metadata": {},
   "outputs": [
    {
     "data": {
      "text/plain": [
       "0.0    25\n",
       "Name: distance, dtype: int64"
      ]
     },
     "execution_count": 38,
     "metadata": {},
     "output_type": "execute_result"
    }
   ],
   "source": [
    "test_df[test_df['distance']==0.0]['distance'].value_counts()"
   ]
  },
  {
   "cell_type": "code",
   "execution_count": 39,
   "metadata": {},
   "outputs": [
    {
     "data": {
      "text/plain": [
       "Counter({False: 16931, True: 37})"
      ]
     },
     "execution_count": 39,
     "metadata": {},
     "output_type": "execute_result"
    }
   ],
   "source": [
    "Counter(train_df['distance'] == 0)"
   ]
  },
  {
   "cell_type": "code",
   "execution_count": 40,
   "metadata": {},
   "outputs": [
    {
     "data": {
      "text/plain": [
       "Counter({False: 8551, True: 25})"
      ]
     },
     "execution_count": 40,
     "metadata": {},
     "output_type": "execute_result"
    }
   ],
   "source": [
    "Counter(test_df['distance'] == 0)"
   ]
  },
  {
   "cell_type": "markdown",
   "metadata": {},
   "source": [
    "There are 37 0 distance rows"
   ]
  },
  {
   "cell_type": "code",
   "execution_count": 41,
   "metadata": {},
   "outputs": [],
   "source": [
    "# train_df = train_df.drop(train_df[train_df['distance']== 0.0].index, axis=0)\n",
    "# train_df.shape"
   ]
  },
  {
   "cell_type": "markdown",
   "metadata": {},
   "source": [
    "# Data visualization"
   ]
  },
  {
   "cell_type": "code",
   "execution_count": 42,
   "metadata": {
    "scrolled": true
   },
   "outputs": [
    {
     "data": {
      "text/plain": [
       "<matplotlib.axes._subplots.AxesSubplot at 0x7f9a384b3b00>"
      ]
     },
     "execution_count": 42,
     "metadata": {},
     "output_type": "execute_result"
    },
    {
     "data": {
      "image/png": "[encoded data removed]",
      "text/plain": [
       "<Figure size 1080x504 with 1 Axes>"
      ]
     },
     "metadata": {
      "needs_background": "light"
     },
     "output_type": "display_data"
    }
   ],
   "source": [
    "plt.figure(figsize=(15,7))\n",
    "sns.countplot(x=\"label\", data=train_df)"
   ]
  },
  {
   "cell_type": "markdown",
   "metadata": {},
   "source": [
    "Problem is class imbalanced"
   ]
  },
  {
   "cell_type": "code",
   "execution_count": 43,
   "metadata": {},
   "outputs": [
    {
     "data": {
      "text/plain": [
       "<matplotlib.axes._subplots.AxesSubplot at 0x7f9a38c867f0>"
      ]
     },
     "execution_count": 43,
     "metadata": {},
     "output_type": "execute_result"
    },
    {
     "data": {
      "image/png": "[encoded data removed]",
      "text/plain": [
       "<Figure size 1080x504 with 1 Axes>"
      ]
     },
     "metadata": {
      "needs_background": "light"
     },
     "output_type": "display_data"
    }
   ],
   "source": [
    "plt.figure(figsize=(15,7))\n",
    "sns.countplot(x=\"pickup_day\", data=train_df)"
   ]
  },
  {
   "cell_type": "code",
   "execution_count": 44,
   "metadata": {},
   "outputs": [
    {
     "data": {
      "text/plain": [
       "tripid                                int64\n",
       "additional_fare                     float64\n",
       "duration                            float64\n",
       "meter_waiting                       float64\n",
       "meter_waiting_fare                  float64\n",
       "meter_waiting_till_pickup           float64\n",
       "pickup_time                  datetime64[ns]\n",
       "drop_time                    datetime64[ns]\n",
       "pick_lat                            float64\n",
       "pick_lon                            float64\n",
       "drop_lat                            float64\n",
       "drop_lon                            float64\n",
       "fare                                float64\n",
       "label                                object\n",
       "pickup_date                           int64\n",
       "pickup_day                            int64\n",
       "pickup_hour                           int64\n",
       "pickup_minute                         int64\n",
       "pickup_month                          int64\n",
       "pickup_year                           int64\n",
       "drop_date                             int64\n",
       "drop_day                              int64\n",
       "drop_hour                             int64\n",
       "drop_minute                           int64\n",
       "drop_month                            int64\n",
       "drop_year                             int64\n",
       "distance                            float64\n",
       "dtype: object"
      ]
     },
     "execution_count": 44,
     "metadata": {},
     "output_type": "execute_result"
    }
   ],
   "source": [
    "train_df.dtypes"
   ]
  },
  {
   "cell_type": "code",
   "execution_count": 45,
   "metadata": {},
   "outputs": [
    {
     "data": {
      "image/png": "[encoded data removed]",
      "text/plain": [
       "<Figure size 1080x504 with 1 Axes>"
      ]
     },
     "metadata": {
      "needs_background": "light"
     },
     "output_type": "display_data"
    }
   ],
   "source": [
    "plt.figure(figsize=(15,7))\n",
    "plt.scatter(x=train_df['pickup_day'], y=train_df['fare'], s=10)\n",
    "plt.xlabel('day')\n",
    "plt.ylabel('Fare')\n",
    "plt.show()"
   ]
  },
  {
   "cell_type": "code",
   "execution_count": 46,
   "metadata": {},
   "outputs": [
    {
     "data": {
      "text/plain": [
       "<matplotlib.axes._subplots.AxesSubplot at 0x7f9a397f7e80>"
      ]
     },
     "execution_count": 46,
     "metadata": {},
     "output_type": "execute_result"
    },
    {
     "data": {
      "image/png": "[encoded data removed]",
      "text/plain": [
       "<Figure size 1080x504 with 1 Axes>"
      ]
     },
     "metadata": {
      "needs_background": "light"
     },
     "output_type": "display_data"
    }
   ],
   "source": [
    "plt.figure(figsize=(15,7))\n",
    "sns.countplot(x=\"pickup_hour\", data=train_df)"
   ]
  },
  {
   "cell_type": "code",
   "execution_count": 47,
   "metadata": {},
   "outputs": [
    {
     "data": {
      "image/png": "[encoded data removed]",
      "text/plain": [
       "<Figure size 1080x504 with 1 Axes>"
      ]
     },
     "metadata": {
      "needs_background": "light"
     },
     "output_type": "display_data"
    }
   ],
   "source": [
    "plt.figure(figsize=(15,7))\n",
    "plt.scatter(x=train_df['meter_waiting'], y=train_df['meter_waiting_fare'], s=10)\n",
    "plt.xlabel('meter waiting')\n",
    "plt.ylabel('meter waiting fare')\n",
    "plt.show()"
   ]
  },
  {
   "cell_type": "code",
   "execution_count": 48,
   "metadata": {},
   "outputs": [
    {
     "data": {
      "image/png": "[encoded data removed]",
      "text/plain": [
       "<Figure size 1080x504 with 1 Axes>"
      ]
     },
     "metadata": {
      "needs_background": "light"
     },
     "output_type": "display_data"
    }
   ],
   "source": [
    "plt.figure(figsize=(15,7))\n",
    "plt.scatter(x=train_df['label'], y=train_df['fare'], s=10)\n",
    "plt.xlabel('label')\n",
    "plt.ylabel('Fare')\n",
    "plt.show()"
   ]
  },
  {
   "cell_type": "code",
   "execution_count": 49,
   "metadata": {},
   "outputs": [
    {
     "data": {
      "image/png": "[encoded data removed]",
      "text/plain": [
       "<Figure size 1080x504 with 1 Axes>"
      ]
     },
     "metadata": {
      "needs_background": "light"
     },
     "output_type": "display_data"
    }
   ],
   "source": [
    "plt.figure(figsize=(15,7))\n",
    "plt.scatter(x=train_df['distance'], y=train_df['fare'],s=10, label=train_df['label'])\n",
    "plt.xlabel('distance')\n",
    "plt.ylabel('Fare')\n",
    "plt.show()"
   ]
  },
  {
   "cell_type": "code",
   "execution_count": 50,
   "metadata": {},
   "outputs": [
    {
     "data": {
      "text/plain": [
       "920    63.41\n",
       "Name: fare, dtype: float64"
      ]
     },
     "execution_count": 50,
     "metadata": {},
     "output_type": "execute_result"
    }
   ],
   "source": [
    "train_df[train_df['distance']>5000]['fare']"
   ]
  },
  {
   "cell_type": "markdown",
   "metadata": {},
   "source": [
    "# Feature selection"
   ]
  },
  {
   "cell_type": "code",
   "execution_count": 57,
   "metadata": {},
   "outputs": [
    {
     "data": {
      "text/plain": [
       "Index(['tripid', 'additional_fare', 'duration', 'meter_waiting',\n",
       "       'meter_waiting_fare', 'meter_waiting_till_pickup', 'pickup_time',\n",
       "       'drop_time', 'pick_lat', 'pick_lon', 'drop_lat', 'drop_lon', 'fare',\n",
       "       'label', 'pickup_date', 'pickup_day', 'pickup_hour', 'pickup_minute',\n",
       "       'pickup_month', 'pickup_year', 'drop_date', 'drop_day', 'drop_hour',\n",
       "       'drop_minute', 'drop_month', 'drop_year', 'distance'],\n",
       "      dtype='object')"
      ]
     },
     "execution_count": 57,
     "metadata": {},
     "output_type": "execute_result"
    }
   ],
   "source": [
    "train_df.columns"
   ]
  },
  {
   "cell_type": "code",
   "execution_count": 104,
   "metadata": {},
   "outputs": [],
   "source": [
    "X = train_df[[\n",
    "    'additional_fare', \n",
    "    'duration',\n",
    "    'meter_waiting',\n",
    "    'meter_waiting_fare',\n",
    "    'meter_waiting_till_pickup', \n",
    "#     'pick_lat', \n",
    "#     'pick_lon', \n",
    "#     'drop_lat', \n",
    "#     'drop_lon', \n",
    "    'fare',\n",
    "#     'pickup_year',\n",
    "    'pickup_date',\n",
    "#     'pickup_day', \n",
    "    'pickup_hour',\n",
    "    'pickup_minute',\n",
    "#     'drop_day',\n",
    "#     'drop_date',\n",
    "    'drop_hour', \n",
    "    'drop_minute',\n",
    "#     'drop_month', \n",
    "#     'pickup_month',\n",
    "    'distance'\n",
    "]]"
   ]
  },
  {
   "cell_type": "code",
   "execution_count": 59,
   "metadata": {},
   "outputs": [],
   "source": [
    "train_df['label'].replace(to_replace=['incorrect','correct'], value=[0,1],inplace=True)\n",
    "y = train_df['label']"
   ]
  },
  {
   "cell_type": "code",
   "execution_count": 105,
   "metadata": {},
   "outputs": [],
   "source": [
    "X = StandardScaler().fit(X).transform(X.astype(float))"
   ]
  },
  {
   "cell_type": "code",
   "execution_count": 106,
   "metadata": {},
   "outputs": [
    {
     "name": "stdout",
     "output_type": "stream",
     "text": [
      "Train set: (13574, 12) (13574,)\n",
      "Test set: (3394, 12) (3394,)\n"
     ]
    }
   ],
   "source": [
    "X_train, X_test, y_train, y_test = train_test_split( X, y, test_size=0.2, random_state=4)\n",
    "print ('Train set:', X_train.shape,  y_train.shape)\n",
    "print ('Test set:', X_test.shape,  y_test.shape)"
   ]
  },
  {
   "cell_type": "code",
   "execution_count": null,
   "metadata": {},
   "outputs": [],
   "source": []
  },
  {
   "cell_type": "markdown",
   "metadata": {},
   "source": [
    "# Train data"
   ]
  },
  {
   "cell_type": "markdown",
   "metadata": {},
   "source": [
    "Xgboost"
   ]
  },
  {
   "cell_type": "code",
   "execution_count": 107,
   "metadata": {},
   "outputs": [],
   "source": [
    "model_params = {'xgb':{\n",
    "        'model':XGBClassifier(),\n",
    "        'params': {\n",
    "            'max_depth':[2,5,6,7,8,9,10,15,14],\n",
    "            'subsample':[0.5,1],\n",
    "            'n_estimators':[50,100,200,150],\n",
    "        }\n",
    "    }}"
   ]
  },
  {
   "cell_type": "code",
   "execution_count": 108,
   "metadata": {},
   "outputs": [
    {
     "data": {
      "text/html": [
       "<div>\n",
       "<style scoped>\n",
       "    .dataframe tbody tr th:only-of-type {\n",
       "        vertical-align: middle;\n",
       "    }\n",
       "\n",
       "    .dataframe tbody tr th {\n",
       "        vertical-align: top;\n",
       "    }\n",
       "\n",
       "    .dataframe thead th {\n",
       "        text-align: right;\n",
       "    }\n",
       "</style>\n",
       "<table border=\"1\" class=\"dataframe\">\n",
       "  <thead>\n",
       "    <tr style=\"text-align: right;\">\n",
       "      <th></th>\n",
       "      <th>model</th>\n",
       "      <th>best_score</th>\n",
       "      <th>best_params</th>\n",
       "    </tr>\n",
       "  </thead>\n",
       "  <tbody>\n",
       "    <tr>\n",
       "      <th>0</th>\n",
       "      <td>xgb</td>\n",
       "      <td>0.953293</td>\n",
       "      <td>{'max_depth': 10, 'n_estimators': 200, 'subsam...</td>\n",
       "    </tr>\n",
       "  </tbody>\n",
       "</table>\n",
       "</div>"
      ],
      "text/plain": [
       "  model  best_score                                        best_params\n",
       "0   xgb    0.953293  {'max_depth': 10, 'n_estimators': 200, 'subsam..."
      ]
     },
     "execution_count": 108,
     "metadata": {},
     "output_type": "execute_result"
    }
   ],
   "source": [
    "from sklearn.model_selection import GridSearchCV\n",
    "score = []\n",
    "for model_name, mp in model_params.items():\n",
    "    clf = GridSearchCV(mp['model'],mp['params'],cv=5)\n",
    "    clf.fit(X_train,y_train)\n",
    "    score.append({\n",
    "        'model':model_name,\n",
    "        'best_score': clf.best_score_,\n",
    "        'best_params': clf.best_params_\n",
    "    })\n",
    "    \n",
    "df_3 = pd.DataFrame(score,columns=['model','best_score','best_params'])\n",
    "df_3"
   ]
  },
  {
   "cell_type": "code",
   "execution_count": 109,
   "metadata": {},
   "outputs": [
    {
     "data": {
      "text/plain": [
       "{'max_depth': 10, 'n_estimators': 200, 'subsample': 1}"
      ]
     },
     "execution_count": 109,
     "metadata": {},
     "output_type": "execute_result"
    }
   ],
   "source": [
    "df_3['best_params'][0]"
   ]
  },
  {
   "cell_type": "code",
   "execution_count": 110,
   "metadata": {},
   "outputs": [
    {
     "name": "stdout",
     "output_type": "stream",
     "text": [
      "train acc 1.0\n",
      "train acc f1  1.0\n",
      "test acc 0.946081319976429\n",
      "test acc f1  0.9706589706589708\n"
     ]
    }
   ],
   "source": [
    "model = XGBClassifier(\n",
    "    max_depth=10,\n",
    "    n_estimators=200,\n",
    "#     random_state=7,\n",
    "    subsample=1,\n",
    "    \n",
    ")\n",
    "\n",
    "model.fit(X_train,y_train)\n",
    "y_pred = model.predict(X_test)\n",
    "y_train_pred = model.predict(X_train)\n",
    "# from sklearn.metrics import accuracy_score, f1_score, classification_report\n",
    "\n",
    "print('train acc',accuracy_score(y_train,y_train_pred))\n",
    "print('train acc f1 ',f1_score(y_train,y_train_pred))\n",
    "print('test acc',accuracy_score(y_test,y_pred))\n",
    "print('test acc f1 ',f1_score(y_test,y_pred))\n",
    "# model.score(X_test)"
   ]
  },
  {
   "cell_type": "markdown",
   "metadata": {},
   "source": [
    "random forest"
   ]
  },
  {
   "cell_type": "code",
   "execution_count": 100,
   "metadata": {},
   "outputs": [],
   "source": [
    "model_params= {'RandomForestClassifier' :{\n",
    "        'model':RandomForestClassifier(),\n",
    "        'params':{\n",
    "            'n_estimators':[1,5,10,100],\n",
    "            'bootstrap':[False],\n",
    "            'criterion':['gini','entropy'],\n",
    "            'max_features':['auto'],\n",
    "#             'min_samples_leaf':[],\n",
    "#             'min_samples_split':[],\n",
    "            \n",
    "        }\n",
    "    },}"
   ]
  },
  {
   "cell_type": "code",
   "execution_count": 101,
   "metadata": {},
   "outputs": [],
   "source": [
    "from sklearn.model_selection import GridSearchCV\n",
    "score = []\n",
    "for model_name, mp in model_params.items():\n",
    "    clf = GridSearchCV(mp['model'],mp['params'],cv=5)\n",
    "    clf.fit(X_train,y_train)\n",
    "    score.append({\n",
    "        'model':model_name,\n",
    "        'best_score': clf.best_score_,\n",
    "        'best_params': clf.best_params_\n",
    "    })"
   ]
  },
  {
   "cell_type": "code",
   "execution_count": 102,
   "metadata": {},
   "outputs": [
    {
     "data": {
      "text/html": [
       "<div>\n",
       "<style scoped>\n",
       "    .dataframe tbody tr th:only-of-type {\n",
       "        vertical-align: middle;\n",
       "    }\n",
       "\n",
       "    .dataframe tbody tr th {\n",
       "        vertical-align: top;\n",
       "    }\n",
       "\n",
       "    .dataframe thead th {\n",
       "        text-align: right;\n",
       "    }\n",
       "</style>\n",
       "<table border=\"1\" class=\"dataframe\">\n",
       "  <thead>\n",
       "    <tr style=\"text-align: right;\">\n",
       "      <th></th>\n",
       "      <th>model</th>\n",
       "      <th>best_score</th>\n",
       "      <th>best_params</th>\n",
       "    </tr>\n",
       "  </thead>\n",
       "  <tbody>\n",
       "    <tr>\n",
       "      <th>0</th>\n",
       "      <td>RandomForestClassifier</td>\n",
       "      <td>0.947989</td>\n",
       "      <td>{'bootstrap': False, 'max_features': 'auto', '...</td>\n",
       "    </tr>\n",
       "  </tbody>\n",
       "</table>\n",
       "</div>"
      ],
      "text/plain": [
       "                    model  best_score  \\\n",
       "0  RandomForestClassifier    0.947989   \n",
       "\n",
       "                                         best_params  \n",
       "0  {'bootstrap': False, 'max_features': 'auto', '...  "
      ]
     },
     "execution_count": 102,
     "metadata": {},
     "output_type": "execute_result"
    }
   ],
   "source": [
    "df_2 = pd.DataFrame(score,columns=['model','best_score','best_params'])\n",
    "df_2"
   ]
  },
  {
   "cell_type": "code",
   "execution_count": 103,
   "metadata": {},
   "outputs": [
    {
     "data": {
      "text/plain": [
       "{'bootstrap': False,\n",
       " 'criterion': 'entropy',\n",
       " 'max_features': 'auto',\n",
       " 'n_estimators': 100}"
      ]
     },
     "execution_count": 103,
     "metadata": {},
     "output_type": "execute_result"
    }
   ],
   "source": [
    "df_2['best_params'][0]"
   ]
  },
  {
   "cell_type": "markdown",
   "metadata": {},
   "source": [
    "# Predict"
   ]
  },
  {
   "cell_type": "code",
   "execution_count": 72,
   "metadata": {},
   "outputs": [
    {
     "data": {
      "text/plain": [
       "tripid                                int64\n",
       "additional_fare                     float64\n",
       "duration                              int64\n",
       "meter_waiting                         int64\n",
       "meter_waiting_fare                  float64\n",
       "meter_waiting_till_pickup             int64\n",
       "pickup_time                  datetime64[ns]\n",
       "drop_time                    datetime64[ns]\n",
       "pick_lat                            float64\n",
       "pick_lon                            float64\n",
       "drop_lat                            float64\n",
       "drop_lon                            float64\n",
       "fare                                float64\n",
       "pickup_date                           int64\n",
       "pickup_day                            int64\n",
       "pickup_hour                           int64\n",
       "pickup_minute                         int64\n",
       "pickup_month                          int64\n",
       "pickup_year                           int64\n",
       "drop_date                             int64\n",
       "drop_day                              int64\n",
       "drop_hour                             int64\n",
       "drop_minute                           int64\n",
       "drop_month                            int64\n",
       "drop_year                             int64\n",
       "distance                            float64\n",
       "dtype: object"
      ]
     },
     "execution_count": 72,
     "metadata": {},
     "output_type": "execute_result"
    }
   ],
   "source": [
    "test_df.dtypes"
   ]
  },
  {
   "cell_type": "code",
   "execution_count": 111,
   "metadata": {},
   "outputs": [],
   "source": [
    "X_ = test_df[[\n",
    "    'additional_fare', \n",
    "    'duration',\n",
    "    'meter_waiting',\n",
    "    'meter_waiting_fare',\n",
    "    'meter_waiting_till_pickup', \n",
    "#     'pick_lat', \n",
    "#     'pick_lon', \n",
    "#     'drop_lat', \n",
    "#     'drop_lon', \n",
    "    'fare',\n",
    "#     'pickup_year',\n",
    "    'pickup_date',\n",
    "#     'pickup_day', \n",
    "    'pickup_hour',\n",
    "    'pickup_minute',\n",
    "#     'drop_day',\n",
    "#     'drop_date',\n",
    "    'drop_hour', \n",
    "    'drop_minute',\n",
    "#     'drop_month', \n",
    "#     'pickup_month',\n",
    "    'distance'\n",
    "]]"
   ]
  },
  {
   "cell_type": "code",
   "execution_count": 112,
   "metadata": {},
   "outputs": [],
   "source": [
    "X_ = StandardScaler().fit(X_).transform(X_.astype(float))"
   ]
  },
  {
   "cell_type": "code",
   "execution_count": 75,
   "metadata": {
    "scrolled": true
   },
   "outputs": [],
   "source": [
    "# yhat = rn_model.predict(X)\n",
    "# data = {'tripid':test_df['tripid'].values}\n",
    "# df_res = pd.DataFrame(data)\n",
    "# df_res['prediction'] = yhat\n",
    "# df_res.to_csv('data/random_forest_3.csv', index=False)\n",
    "# df_res['prediction'].value_counts()"
   ]
  },
  {
   "cell_type": "code",
   "execution_count": 113,
   "metadata": {},
   "outputs": [
    {
     "data": {
      "text/plain": [
       "1    8114\n",
       "0     462\n",
       "Name: prediction, dtype: int64"
      ]
     },
     "execution_count": 113,
     "metadata": {},
     "output_type": "execute_result"
    }
   ],
   "source": [
    "yhat = model.predict(X_)\n",
    "data = {'tripid':test_df['tripid'].values}\n",
    "df_res = pd.DataFrame(data)\n",
    "df_res['prediction'] = yhat\n",
    "df_res.to_csv('data/xgboost_6.csv', index=False)\n",
    "df_res['prediction'].value_counts()"
   ]
  },
  {
   "cell_type": "code",
   "execution_count": 77,
   "metadata": {},
   "outputs": [],
   "source": [
    "# from sklearn import svm\n",
    "# from sklearn.ensemble import RandomForestClassifier\n",
    "# from sklearn.linear_model import LogisticRegression\n",
    "# from sklearn.naive_bayes import GaussianNB\n",
    "# from sklearn.naive_bayes import MultinomialNB\n",
    "# from sklearn.tree import DecisionTreeClassifier\n",
    "\n",
    "# model_params = {\n",
    "#     'svm' :{\n",
    "#         'model':svm.SVC(gamma='auto'),\n",
    "#         'params':{\n",
    "#             'kernel':('rbf','linear'),\n",
    "#             'C':[1,10,20],\n",
    "#         }\n",
    "#     },\n",
    "#     'RandomForestClassifier' :{\n",
    "#         'model':RandomForestClassifier(),\n",
    "#         'params':{\n",
    "#             'n_estimators':[1,5,10,100]\n",
    "#         }\n",
    "#     },\n",
    "#     'LogisticRegression' :{\n",
    "#         'model':LogisticRegression(solver='liblinear', multi_class='auto'),\n",
    "#         'params':{\n",
    "#             'C':[1,5,10]\n",
    "#         }\n",
    "#     },\n",
    "    \n",
    "#     'GaussianNB' :{\n",
    "#         'model':GaussianNB(),\n",
    "#         'params':{\n",
    "#             'var_smoothing':[0.1,0.2,0.3,0.4,0.5]\n",
    "#         }\n",
    "#     },\n",
    "# #     'MultinomialNB' :{\n",
    "# #         'model':MultinomialNB(),\n",
    "# #         'params':{\n",
    "# #             'alpha':[0.1,0.5,1.0]\n",
    "# #         }\n",
    "# #     },\n",
    "#     'DecisionTreeClassifier' :{\n",
    "#         'model':DecisionTreeClassifier(random_state=0),\n",
    "#         'params':{\n",
    "# #             'splitter':['best', 'random'],\n",
    "# #             'max_depth':[12,14,13,15],\n",
    "# #             'max_features': ['auto','sqrt'],\n",
    "#             'criterion': ['gini','entropy'],\n",
    "#         }\n",
    "#     },\n",
    "#     'xgb':{\n",
    "#         'model':XGBClassifier(),\n",
    "#         'params': {\n",
    "#             'max_depth':[2,5,8],\n",
    "# #             'subsample':[0.5,1],\n",
    "#             'n_estimators':[50,100,147,150],\n",
    "#         }\n",
    "#     }\n",
    "# }"
   ]
  },
  {
   "cell_type": "code",
   "execution_count": 78,
   "metadata": {},
   "outputs": [],
   "source": [
    "# from sklearn.model_selection import GridSearchCV\n",
    "# score = []\n",
    "# for model_name, mp in model_params.items():\n",
    "#     clf = GridSearchCV(mp['model'],mp['params'],cv=5)\n",
    "#     clf.fit(X,y)\n",
    "#     score.append({\n",
    "#         'model':model_name,\n",
    "#         'best_score': clf.best_score_,\n",
    "#         'best_params': clf.best_params_\n",
    "#     })"
   ]
  },
  {
   "cell_type": "code",
   "execution_count": 79,
   "metadata": {},
   "outputs": [],
   "source": [
    "# df_1 = pd.DataFrame(score,columns=['model','best_score','best_params'])\n",
    "# df_1"
   ]
  },
  {
   "cell_type": "code",
   "execution_count": 80,
   "metadata": {},
   "outputs": [],
   "source": [
    "# train_df.columns"
   ]
  }
 ],
 "metadata": {
  "kernelspec": {
   "display_name": "Python 3",
   "language": "python",
   "name": "python3"
  },
  "language_info": {
   "codemirror_mode": {
    "name": "ipython",
    "version": 3
   },
   "file_extension": ".py",
   "mimetype": "text/x-python",
   "name": "python",
   "nbconvert_exporter": "python",
   "pygments_lexer": "ipython3",
   "version": "3.5.6"
  }
 },
 "nbformat": 4,
 "nbformat_minor": 4
}
